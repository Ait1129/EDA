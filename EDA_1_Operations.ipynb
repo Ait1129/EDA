{
  "nbformat": 4,
  "nbformat_minor": 0,
  "metadata": {
    "kernelspec": {
      "display_name": "Python 3",
      "language": "python",
      "name": "python3"
    },
    "language_info": {
      "codemirror_mode": {
        "name": "ipython",
        "version": 3
      },
      "file_extension": ".py",
      "mimetype": "text/x-python",
      "name": "python",
      "nbconvert_exporter": "python",
      "pygments_lexer": "ipython3",
      "version": "3.8.3"
    },
    "colab": {
      "name": "Lab6_EDA_1.ipynb",
      "provenance": []
    }
  },
  "cells": [
    {
      "cell_type": "markdown",
      "metadata": {
        "id": "a4HXUIBxlDI1"
      },
      "source": [
        "# Statistics Introduction Applied to Data Science\n",
        "## Lab : Six\n",
        "## Exploratory Data Analysis - Part One"
      ]
    },
    {
      "cell_type": "markdown",
      "metadata": {
        "id": "0rCYvw1dlDI6"
      },
      "source": [
        "### We import necessary libraries."
      ]
    },
    {
      "cell_type": "code",
      "metadata": {
        "id": "UXdVtdfglDI6"
      },
      "source": [
        "import pandas as pd\n",
        "import numpy as np"
      ],
      "execution_count": null,
      "outputs": []
    },
    {
      "cell_type": "code",
      "metadata": {
        "id": "nlnbbFialDI8"
      },
      "source": [
        "# Standard python graphics library.\n",
        "import matplotlib.pyplot as plt\n",
        "import seaborn as sns\n",
        "%matplotlib inline"
      ],
      "execution_count": null,
      "outputs": []
    },
    {
      "cell_type": "code",
      "metadata": {
        "colab": {
          "base_uri": "https://localhost:8080/"
        },
        "id": "kl7cVtLflDI8",
        "outputId": "9e5f8e1a-7bbe-447d-de41-9365d7826ded"
      },
      "source": [
        "# For the boxplot\n",
        "!pip install seaborn"
      ],
      "execution_count": null,
      "outputs": [
        {
          "output_type": "stream",
          "name": "stdout",
          "text": [
            "Requirement already satisfied: seaborn in /usr/local/lib/python3.7/dist-packages (0.11.2)\n",
            "Requirement already satisfied: numpy>=1.15 in /usr/local/lib/python3.7/dist-packages (from seaborn) (1.19.5)\n",
            "Requirement already satisfied: matplotlib>=2.2 in /usr/local/lib/python3.7/dist-packages (from seaborn) (3.2.2)\n",
            "Requirement already satisfied: pandas>=0.23 in /usr/local/lib/python3.7/dist-packages (from seaborn) (1.1.5)\n",
            "Requirement already satisfied: scipy>=1.0 in /usr/local/lib/python3.7/dist-packages (from seaborn) (1.4.1)\n",
            "Requirement already satisfied: python-dateutil>=2.1 in /usr/local/lib/python3.7/dist-packages (from matplotlib>=2.2->seaborn) (2.8.2)\n",
            "Requirement already satisfied: kiwisolver>=1.0.1 in /usr/local/lib/python3.7/dist-packages (from matplotlib>=2.2->seaborn) (1.3.2)\n",
            "Requirement already satisfied: pyparsing!=2.0.4,!=2.1.2,!=2.1.6,>=2.0.1 in /usr/local/lib/python3.7/dist-packages (from matplotlib>=2.2->seaborn) (2.4.7)\n",
            "Requirement already satisfied: cycler>=0.10 in /usr/local/lib/python3.7/dist-packages (from matplotlib>=2.2->seaborn) (0.10.0)\n",
            "Requirement already satisfied: six in /usr/local/lib/python3.7/dist-packages (from cycler>=0.10->matplotlib>=2.2->seaborn) (1.15.0)\n",
            "Requirement already satisfied: pytz>=2017.2 in /usr/local/lib/python3.7/dist-packages (from pandas>=0.23->seaborn) (2018.9)\n"
          ]
        }
      ]
    },
    {
      "cell_type": "markdown",
      "metadata": {
        "id": "SsOPX1ZGlDI9"
      },
      "source": [
        "We load the operations dataset."
      ]
    },
    {
      "cell_type": "code",
      "metadata": {
        "colab": {
          "base_uri": "https://localhost:8080/"
        },
        "id": "zB4TE-3Uletl",
        "outputId": "ade320a8-727c-4793-caf4-6ae311fce035"
      },
      "source": [
        "from google.colab import drive\n",
        "drive.mount('/content/drive')"
      ],
      "execution_count": null,
      "outputs": [
        {
          "output_type": "stream",
          "name": "stdout",
          "text": [
            "Mounted at /content/drive\n"
          ]
        }
      ]
    },
    {
      "cell_type": "code",
      "metadata": {
        "id": "Ib4ooGWXlDI9"
      },
      "source": [
        "df_operations = pd.read_csv('/content/drive/MyDrive/Data/Operations.csv')"
      ],
      "execution_count": null,
      "outputs": []
    },
    {
      "cell_type": "code",
      "metadata": {
        "colab": {
          "base_uri": "https://localhost:8080/",
          "height": 204
        },
        "id": "xm6PrL-ulDI-",
        "outputId": "6a20bdc5-f62e-4cb3-94be-5b8a1a81670a"
      },
      "source": [
        "df_operations.head()"
      ],
      "execution_count": null,
      "outputs": [
        {
          "output_type": "execute_result",
          "data": {
            "text/html": [
              "<div>\n",
              "<style scoped>\n",
              "    .dataframe tbody tr th:only-of-type {\n",
              "        vertical-align: middle;\n",
              "    }\n",
              "\n",
              "    .dataframe tbody tr th {\n",
              "        vertical-align: top;\n",
              "    }\n",
              "\n",
              "    .dataframe thead th {\n",
              "        text-align: right;\n",
              "    }\n",
              "</style>\n",
              "<table border=\"1\" class=\"dataframe\">\n",
              "  <thead>\n",
              "    <tr style=\"text-align: right;\">\n",
              "      <th></th>\n",
              "      <th>Customer</th>\n",
              "      <th>Customer Type</th>\n",
              "      <th>Payment Type</th>\n",
              "      <th>Purchases</th>\n",
              "      <th>Sales</th>\n",
              "      <th>Refunds</th>\n",
              "      <th>Country</th>\n",
              "      <th>Continent</th>\n",
              "    </tr>\n",
              "  </thead>\n",
              "  <tbody>\n",
              "    <tr>\n",
              "      <th>0</th>\n",
              "      <td>10000</td>\n",
              "      <td>Person</td>\n",
              "      <td>Cash</td>\n",
              "      <td>120000</td>\n",
              "      <td>150000</td>\n",
              "      <td>240</td>\n",
              "      <td>Canada</td>\n",
              "      <td>America</td>\n",
              "    </tr>\n",
              "    <tr>\n",
              "      <th>1</th>\n",
              "      <td>10001</td>\n",
              "      <td>Company</td>\n",
              "      <td>Cash</td>\n",
              "      <td>521400</td>\n",
              "      <td>651750</td>\n",
              "      <td>1043</td>\n",
              "      <td>Japan</td>\n",
              "      <td>Asia</td>\n",
              "    </tr>\n",
              "    <tr>\n",
              "      <th>2</th>\n",
              "      <td>10002</td>\n",
              "      <td>Company</td>\n",
              "      <td>Credit Card</td>\n",
              "      <td>451000</td>\n",
              "      <td>563750</td>\n",
              "      <td>902</td>\n",
              "      <td>Mexico</td>\n",
              "      <td>America</td>\n",
              "    </tr>\n",
              "    <tr>\n",
              "      <th>3</th>\n",
              "      <td>10003</td>\n",
              "      <td>Company</td>\n",
              "      <td>Transfer</td>\n",
              "      <td>565000</td>\n",
              "      <td>706250</td>\n",
              "      <td>1130</td>\n",
              "      <td>Spain</td>\n",
              "      <td>Europe</td>\n",
              "    </tr>\n",
              "    <tr>\n",
              "      <th>4</th>\n",
              "      <td>10004</td>\n",
              "      <td>Person</td>\n",
              "      <td>Transfer</td>\n",
              "      <td>512300</td>\n",
              "      <td>640375</td>\n",
              "      <td>1024</td>\n",
              "      <td>Argentina</td>\n",
              "      <td>America</td>\n",
              "    </tr>\n",
              "  </tbody>\n",
              "</table>\n",
              "</div>"
            ],
            "text/plain": [
              "   Customer Customer Type Payment Type  ...  Refunds    Country  Continent\n",
              "0     10000        Person         Cash  ...      240     Canada    America\n",
              "1     10001       Company         Cash  ...     1043      Japan       Asia\n",
              "2     10002       Company  Credit Card  ...      902     Mexico    America\n",
              "3     10003       Company     Transfer  ...     1130      Spain     Europe\n",
              "4     10004        Person     Transfer  ...     1024  Argentina    America\n",
              "\n",
              "[5 rows x 8 columns]"
            ]
          },
          "metadata": {},
          "execution_count": 8
        }
      ]
    },
    {
      "cell_type": "markdown",
      "metadata": {
        "id": "vpvmdEKKlDI-"
      },
      "source": [
        "## Describe() method\n",
        "By default it only shows quantitative variables."
      ]
    },
    {
      "cell_type": "code",
      "metadata": {
        "colab": {
          "base_uri": "https://localhost:8080/",
          "height": 297
        },
        "id": "bIKkwSoSlDI-",
        "outputId": "fa384ec1-44ee-4ec2-bd79-058b848dcef3"
      },
      "source": [
        "df_operations.describe()"
      ],
      "execution_count": null,
      "outputs": [
        {
          "output_type": "execute_result",
          "data": {
            "text/html": [
              "<div>\n",
              "<style scoped>\n",
              "    .dataframe tbody tr th:only-of-type {\n",
              "        vertical-align: middle;\n",
              "    }\n",
              "\n",
              "    .dataframe tbody tr th {\n",
              "        vertical-align: top;\n",
              "    }\n",
              "\n",
              "    .dataframe thead th {\n",
              "        text-align: right;\n",
              "    }\n",
              "</style>\n",
              "<table border=\"1\" class=\"dataframe\">\n",
              "  <thead>\n",
              "    <tr style=\"text-align: right;\">\n",
              "      <th></th>\n",
              "      <th>Customer</th>\n",
              "      <th>Purchases</th>\n",
              "      <th>Sales</th>\n",
              "      <th>Refunds</th>\n",
              "    </tr>\n",
              "  </thead>\n",
              "  <tbody>\n",
              "    <tr>\n",
              "      <th>count</th>\n",
              "      <td>19.000000</td>\n",
              "      <td>19.000000</td>\n",
              "      <td>19.000000</td>\n",
              "      <td>19.000000</td>\n",
              "    </tr>\n",
              "    <tr>\n",
              "      <th>mean</th>\n",
              "      <td>10009.000000</td>\n",
              "      <td>450589.210526</td>\n",
              "      <td>563252.210526</td>\n",
              "      <td>819.210526</td>\n",
              "    </tr>\n",
              "    <tr>\n",
              "      <th>std</th>\n",
              "      <td>5.627314</td>\n",
              "      <td>167280.787361</td>\n",
              "      <td>209101.355900</td>\n",
              "      <td>439.467554</td>\n",
              "    </tr>\n",
              "    <tr>\n",
              "      <th>min</th>\n",
              "      <td>10000.000000</td>\n",
              "      <td>83000.000000</td>\n",
              "      <td>103750.000000</td>\n",
              "      <td>0.000000</td>\n",
              "    </tr>\n",
              "    <tr>\n",
              "      <th>25%</th>\n",
              "      <td>10004.500000</td>\n",
              "      <td>388850.000000</td>\n",
              "      <td>486062.500000</td>\n",
              "      <td>592.000000</td>\n",
              "    </tr>\n",
              "    <tr>\n",
              "      <th>50%</th>\n",
              "      <td>10009.000000</td>\n",
              "      <td>454100.000000</td>\n",
              "      <td>567925.000000</td>\n",
              "      <td>910.000000</td>\n",
              "    </tr>\n",
              "    <tr>\n",
              "      <th>75%</th>\n",
              "      <td>10013.500000</td>\n",
              "      <td>531200.000000</td>\n",
              "      <td>664000.000000</td>\n",
              "      <td>1062.500000</td>\n",
              "    </tr>\n",
              "    <tr>\n",
              "      <th>max</th>\n",
              "      <td>10018.000000</td>\n",
              "      <td>741000.000000</td>\n",
              "      <td>926250.000000</td>\n",
              "      <td>1482.000000</td>\n",
              "    </tr>\n",
              "  </tbody>\n",
              "</table>\n",
              "</div>"
            ],
            "text/plain": [
              "           Customer      Purchases          Sales      Refunds\n",
              "count     19.000000      19.000000      19.000000    19.000000\n",
              "mean   10009.000000  450589.210526  563252.210526   819.210526\n",
              "std        5.627314  167280.787361  209101.355900   439.467554\n",
              "min    10000.000000   83000.000000  103750.000000     0.000000\n",
              "25%    10004.500000  388850.000000  486062.500000   592.000000\n",
              "50%    10009.000000  454100.000000  567925.000000   910.000000\n",
              "75%    10013.500000  531200.000000  664000.000000  1062.500000\n",
              "max    10018.000000  741000.000000  926250.000000  1482.000000"
            ]
          },
          "metadata": {},
          "execution_count": 9
        }
      ]
    },
    {
      "cell_type": "markdown",
      "metadata": {
        "id": "_16N-9EqlDI_"
      },
      "source": [
        "If we want to show only qualitative variables we use the include parameter."
      ]
    },
    {
      "cell_type": "code",
      "metadata": {
        "colab": {
          "base_uri": "https://localhost:8080/",
          "height": 173
        },
        "id": "REonhlwIlDI_",
        "outputId": "529ed840-c495-4e0f-fb31-5dfa0723f93e"
      },
      "source": [
        "df_operations.describe(include = [np.object])"
      ],
      "execution_count": null,
      "outputs": [
        {
          "output_type": "execute_result",
          "data": {
            "text/html": [
              "<div>\n",
              "<style scoped>\n",
              "    .dataframe tbody tr th:only-of-type {\n",
              "        vertical-align: middle;\n",
              "    }\n",
              "\n",
              "    .dataframe tbody tr th {\n",
              "        vertical-align: top;\n",
              "    }\n",
              "\n",
              "    .dataframe thead th {\n",
              "        text-align: right;\n",
              "    }\n",
              "</style>\n",
              "<table border=\"1\" class=\"dataframe\">\n",
              "  <thead>\n",
              "    <tr style=\"text-align: right;\">\n",
              "      <th></th>\n",
              "      <th>Customer Type</th>\n",
              "      <th>Payment Type</th>\n",
              "      <th>Country</th>\n",
              "      <th>Continent</th>\n",
              "    </tr>\n",
              "  </thead>\n",
              "  <tbody>\n",
              "    <tr>\n",
              "      <th>count</th>\n",
              "      <td>19</td>\n",
              "      <td>19</td>\n",
              "      <td>19</td>\n",
              "      <td>19</td>\n",
              "    </tr>\n",
              "    <tr>\n",
              "      <th>unique</th>\n",
              "      <td>2</td>\n",
              "      <td>3</td>\n",
              "      <td>8</td>\n",
              "      <td>3</td>\n",
              "    </tr>\n",
              "    <tr>\n",
              "      <th>top</th>\n",
              "      <td>Company</td>\n",
              "      <td>Cash</td>\n",
              "      <td>EEUU</td>\n",
              "      <td>America</td>\n",
              "    </tr>\n",
              "    <tr>\n",
              "      <th>freq</th>\n",
              "      <td>10</td>\n",
              "      <td>8</td>\n",
              "      <td>6</td>\n",
              "      <td>14</td>\n",
              "    </tr>\n",
              "  </tbody>\n",
              "</table>\n",
              "</div>"
            ],
            "text/plain": [
              "       Customer Type Payment Type Country Continent\n",
              "count             19           19      19        19\n",
              "unique             2            3       8         3\n",
              "top          Company         Cash    EEUU   America\n",
              "freq              10            8       6        14"
            ]
          },
          "metadata": {},
          "execution_count": 10
        }
      ]
    },
    {
      "cell_type": "markdown",
      "metadata": {
        "id": "UCEyFm97lDI_"
      },
      "source": [
        "If I want to see both numeric and categorical variables, include = 'all'."
      ]
    },
    {
      "cell_type": "code",
      "metadata": {
        "colab": {
          "base_uri": "https://localhost:8080/",
          "height": 390
        },
        "id": "EJJnNumklDJA",
        "outputId": "f8b7095a-0d00-42b9-db9e-412db2f66c27"
      },
      "source": [
        "df_operations.describe(include = 'all')"
      ],
      "execution_count": null,
      "outputs": [
        {
          "output_type": "execute_result",
          "data": {
            "text/html": [
              "<div>\n",
              "<style scoped>\n",
              "    .dataframe tbody tr th:only-of-type {\n",
              "        vertical-align: middle;\n",
              "    }\n",
              "\n",
              "    .dataframe tbody tr th {\n",
              "        vertical-align: top;\n",
              "    }\n",
              "\n",
              "    .dataframe thead th {\n",
              "        text-align: right;\n",
              "    }\n",
              "</style>\n",
              "<table border=\"1\" class=\"dataframe\">\n",
              "  <thead>\n",
              "    <tr style=\"text-align: right;\">\n",
              "      <th></th>\n",
              "      <th>Customer</th>\n",
              "      <th>Customer Type</th>\n",
              "      <th>Payment Type</th>\n",
              "      <th>Purchases</th>\n",
              "      <th>Sales</th>\n",
              "      <th>Refunds</th>\n",
              "      <th>Country</th>\n",
              "      <th>Continent</th>\n",
              "    </tr>\n",
              "  </thead>\n",
              "  <tbody>\n",
              "    <tr>\n",
              "      <th>count</th>\n",
              "      <td>19.000000</td>\n",
              "      <td>19</td>\n",
              "      <td>19</td>\n",
              "      <td>19.000000</td>\n",
              "      <td>19.000000</td>\n",
              "      <td>19.000000</td>\n",
              "      <td>19</td>\n",
              "      <td>19</td>\n",
              "    </tr>\n",
              "    <tr>\n",
              "      <th>unique</th>\n",
              "      <td>NaN</td>\n",
              "      <td>2</td>\n",
              "      <td>3</td>\n",
              "      <td>NaN</td>\n",
              "      <td>NaN</td>\n",
              "      <td>NaN</td>\n",
              "      <td>8</td>\n",
              "      <td>3</td>\n",
              "    </tr>\n",
              "    <tr>\n",
              "      <th>top</th>\n",
              "      <td>NaN</td>\n",
              "      <td>Company</td>\n",
              "      <td>Cash</td>\n",
              "      <td>NaN</td>\n",
              "      <td>NaN</td>\n",
              "      <td>NaN</td>\n",
              "      <td>EEUU</td>\n",
              "      <td>America</td>\n",
              "    </tr>\n",
              "    <tr>\n",
              "      <th>freq</th>\n",
              "      <td>NaN</td>\n",
              "      <td>10</td>\n",
              "      <td>8</td>\n",
              "      <td>NaN</td>\n",
              "      <td>NaN</td>\n",
              "      <td>NaN</td>\n",
              "      <td>6</td>\n",
              "      <td>14</td>\n",
              "    </tr>\n",
              "    <tr>\n",
              "      <th>mean</th>\n",
              "      <td>10009.000000</td>\n",
              "      <td>NaN</td>\n",
              "      <td>NaN</td>\n",
              "      <td>450589.210526</td>\n",
              "      <td>563252.210526</td>\n",
              "      <td>819.210526</td>\n",
              "      <td>NaN</td>\n",
              "      <td>NaN</td>\n",
              "    </tr>\n",
              "    <tr>\n",
              "      <th>std</th>\n",
              "      <td>5.627314</td>\n",
              "      <td>NaN</td>\n",
              "      <td>NaN</td>\n",
              "      <td>167280.787361</td>\n",
              "      <td>209101.355900</td>\n",
              "      <td>439.467554</td>\n",
              "      <td>NaN</td>\n",
              "      <td>NaN</td>\n",
              "    </tr>\n",
              "    <tr>\n",
              "      <th>min</th>\n",
              "      <td>10000.000000</td>\n",
              "      <td>NaN</td>\n",
              "      <td>NaN</td>\n",
              "      <td>83000.000000</td>\n",
              "      <td>103750.000000</td>\n",
              "      <td>0.000000</td>\n",
              "      <td>NaN</td>\n",
              "      <td>NaN</td>\n",
              "    </tr>\n",
              "    <tr>\n",
              "      <th>25%</th>\n",
              "      <td>10004.500000</td>\n",
              "      <td>NaN</td>\n",
              "      <td>NaN</td>\n",
              "      <td>388850.000000</td>\n",
              "      <td>486062.500000</td>\n",
              "      <td>592.000000</td>\n",
              "      <td>NaN</td>\n",
              "      <td>NaN</td>\n",
              "    </tr>\n",
              "    <tr>\n",
              "      <th>50%</th>\n",
              "      <td>10009.000000</td>\n",
              "      <td>NaN</td>\n",
              "      <td>NaN</td>\n",
              "      <td>454100.000000</td>\n",
              "      <td>567925.000000</td>\n",
              "      <td>910.000000</td>\n",
              "      <td>NaN</td>\n",
              "      <td>NaN</td>\n",
              "    </tr>\n",
              "    <tr>\n",
              "      <th>75%</th>\n",
              "      <td>10013.500000</td>\n",
              "      <td>NaN</td>\n",
              "      <td>NaN</td>\n",
              "      <td>531200.000000</td>\n",
              "      <td>664000.000000</td>\n",
              "      <td>1062.500000</td>\n",
              "      <td>NaN</td>\n",
              "      <td>NaN</td>\n",
              "    </tr>\n",
              "    <tr>\n",
              "      <th>max</th>\n",
              "      <td>10018.000000</td>\n",
              "      <td>NaN</td>\n",
              "      <td>NaN</td>\n",
              "      <td>741000.000000</td>\n",
              "      <td>926250.000000</td>\n",
              "      <td>1482.000000</td>\n",
              "      <td>NaN</td>\n",
              "      <td>NaN</td>\n",
              "    </tr>\n",
              "  </tbody>\n",
              "</table>\n",
              "</div>"
            ],
            "text/plain": [
              "            Customer Customer Type Payment Type  ...      Refunds  Country  Continent\n",
              "count      19.000000            19           19  ...    19.000000       19         19\n",
              "unique           NaN             2            3  ...          NaN        8          3\n",
              "top              NaN       Company         Cash  ...          NaN     EEUU    America\n",
              "freq             NaN            10            8  ...          NaN        6         14\n",
              "mean    10009.000000           NaN          NaN  ...   819.210526      NaN        NaN\n",
              "std         5.627314           NaN          NaN  ...   439.467554      NaN        NaN\n",
              "min     10000.000000           NaN          NaN  ...     0.000000      NaN        NaN\n",
              "25%     10004.500000           NaN          NaN  ...   592.000000      NaN        NaN\n",
              "50%     10009.000000           NaN          NaN  ...   910.000000      NaN        NaN\n",
              "75%     10013.500000           NaN          NaN  ...  1062.500000      NaN        NaN\n",
              "max     10018.000000           NaN          NaN  ...  1482.000000      NaN        NaN\n",
              "\n",
              "[11 rows x 8 columns]"
            ]
          },
          "metadata": {},
          "execution_count": 11
        }
      ]
    },
    {
      "cell_type": "markdown",
      "metadata": {
        "id": "rWvmGXiLlDJA"
      },
      "source": [
        "## Value_counts() method\n",
        "We can summarize categorical variables."
      ]
    },
    {
      "cell_type": "code",
      "metadata": {
        "colab": {
          "base_uri": "https://localhost:8080/",
          "height": 111
        },
        "id": "wP09hKU5lDJA",
        "outputId": "3dcf3cdf-1ff4-49ad-d56d-479da06dd972"
      },
      "source": [
        "df_cus_type_counts = df_operations[\"Customer Type\"].value_counts()\n",
        "df_cus_type_counts = df_cus_type_counts.to_frame()\n",
        "df_cus_type_counts"
      ],
      "execution_count": null,
      "outputs": [
        {
          "output_type": "execute_result",
          "data": {
            "text/html": [
              "<div>\n",
              "<style scoped>\n",
              "    .dataframe tbody tr th:only-of-type {\n",
              "        vertical-align: middle;\n",
              "    }\n",
              "\n",
              "    .dataframe tbody tr th {\n",
              "        vertical-align: top;\n",
              "    }\n",
              "\n",
              "    .dataframe thead th {\n",
              "        text-align: right;\n",
              "    }\n",
              "</style>\n",
              "<table border=\"1\" class=\"dataframe\">\n",
              "  <thead>\n",
              "    <tr style=\"text-align: right;\">\n",
              "      <th></th>\n",
              "      <th>Customer Type</th>\n",
              "    </tr>\n",
              "  </thead>\n",
              "  <tbody>\n",
              "    <tr>\n",
              "      <th>Company</th>\n",
              "      <td>10</td>\n",
              "    </tr>\n",
              "    <tr>\n",
              "      <th>Person</th>\n",
              "      <td>9</td>\n",
              "    </tr>\n",
              "  </tbody>\n",
              "</table>\n",
              "</div>"
            ],
            "text/plain": [
              "         Customer Type\n",
              "Company             10\n",
              "Person               9"
            ]
          },
          "metadata": {},
          "execution_count": 12
        }
      ]
    },
    {
      "cell_type": "markdown",
      "metadata": {
        "id": "ZnUKRzeDlDJB"
      },
      "source": [
        "To improve readability."
      ]
    },
    {
      "cell_type": "code",
      "metadata": {
        "colab": {
          "base_uri": "https://localhost:8080/",
          "height": 142
        },
        "id": "gpi2H0IVlDJB",
        "outputId": "b180dd42-a423-4d33-b7e9-3eec96591a18"
      },
      "source": [
        "df_cus_type_counts.rename(columns={'Customer Type':'Count'}, inplace = True)\n",
        "df_cus_type_counts.index.name = 'Customer Type'\n",
        "df_cus_type_counts"
      ],
      "execution_count": null,
      "outputs": [
        {
          "output_type": "execute_result",
          "data": {
            "text/html": [
              "<div>\n",
              "<style scoped>\n",
              "    .dataframe tbody tr th:only-of-type {\n",
              "        vertical-align: middle;\n",
              "    }\n",
              "\n",
              "    .dataframe tbody tr th {\n",
              "        vertical-align: top;\n",
              "    }\n",
              "\n",
              "    .dataframe thead th {\n",
              "        text-align: right;\n",
              "    }\n",
              "</style>\n",
              "<table border=\"1\" class=\"dataframe\">\n",
              "  <thead>\n",
              "    <tr style=\"text-align: right;\">\n",
              "      <th></th>\n",
              "      <th>Count</th>\n",
              "    </tr>\n",
              "    <tr>\n",
              "      <th>Customer Type</th>\n",
              "      <th></th>\n",
              "    </tr>\n",
              "  </thead>\n",
              "  <tbody>\n",
              "    <tr>\n",
              "      <th>Company</th>\n",
              "      <td>10</td>\n",
              "    </tr>\n",
              "    <tr>\n",
              "      <th>Person</th>\n",
              "      <td>9</td>\n",
              "    </tr>\n",
              "  </tbody>\n",
              "</table>\n",
              "</div>"
            ],
            "text/plain": [
              "               Count\n",
              "Customer Type       \n",
              "Company           10\n",
              "Person             9"
            ]
          },
          "metadata": {},
          "execution_count": 13
        }
      ]
    },
    {
      "cell_type": "markdown",
      "metadata": {
        "id": "vwz8qvlslDJB"
      },
      "source": [
        "## Groupby() method"
      ]
    },
    {
      "cell_type": "code",
      "metadata": {
        "colab": {
          "base_uri": "https://localhost:8080/",
          "height": 235
        },
        "id": "yPc_Q1OalDJB",
        "outputId": "b642b0a1-50ca-4a89-a21d-35c3eb9c32b9"
      },
      "source": [
        "df_test = df_operations[['Customer Type','Payment Type','Sales']]\n",
        "df_test.groupby(['Customer Type','Payment Type'], as_index = False).mean()"
      ],
      "execution_count": null,
      "outputs": [
        {
          "output_type": "execute_result",
          "data": {
            "text/html": [
              "<div>\n",
              "<style scoped>\n",
              "    .dataframe tbody tr th:only-of-type {\n",
              "        vertical-align: middle;\n",
              "    }\n",
              "\n",
              "    .dataframe tbody tr th {\n",
              "        vertical-align: top;\n",
              "    }\n",
              "\n",
              "    .dataframe thead th {\n",
              "        text-align: right;\n",
              "    }\n",
              "</style>\n",
              "<table border=\"1\" class=\"dataframe\">\n",
              "  <thead>\n",
              "    <tr style=\"text-align: right;\">\n",
              "      <th></th>\n",
              "      <th>Customer Type</th>\n",
              "      <th>Payment Type</th>\n",
              "      <th>Sales</th>\n",
              "    </tr>\n",
              "  </thead>\n",
              "  <tbody>\n",
              "    <tr>\n",
              "      <th>0</th>\n",
              "      <td>Company</td>\n",
              "      <td>Cash</td>\n",
              "      <td>530185.000000</td>\n",
              "    </tr>\n",
              "    <tr>\n",
              "      <th>1</th>\n",
              "      <td>Company</td>\n",
              "      <td>Credit Card</td>\n",
              "      <td>711425.666667</td>\n",
              "    </tr>\n",
              "    <tr>\n",
              "      <th>2</th>\n",
              "      <td>Company</td>\n",
              "      <td>Transfer</td>\n",
              "      <td>503756.000000</td>\n",
              "    </tr>\n",
              "    <tr>\n",
              "      <th>3</th>\n",
              "      <td>Person</td>\n",
              "      <td>Cash</td>\n",
              "      <td>547179.000000</td>\n",
              "    </tr>\n",
              "    <tr>\n",
              "      <th>4</th>\n",
              "      <td>Person</td>\n",
              "      <td>Credit Card</td>\n",
              "      <td>508875.000000</td>\n",
              "    </tr>\n",
              "    <tr>\n",
              "      <th>5</th>\n",
              "      <td>Person</td>\n",
              "      <td>Transfer</td>\n",
              "      <td>562447.750000</td>\n",
              "    </tr>\n",
              "  </tbody>\n",
              "</table>\n",
              "</div>"
            ],
            "text/plain": [
              "  Customer Type Payment Type          Sales\n",
              "0       Company         Cash  530185.000000\n",
              "1       Company  Credit Card  711425.666667\n",
              "2       Company     Transfer  503756.000000\n",
              "3        Person         Cash  547179.000000\n",
              "4        Person  Credit Card  508875.000000\n",
              "5        Person     Transfer  562447.750000"
            ]
          },
          "metadata": {},
          "execution_count": 14
        }
      ]
    },
    {
      "cell_type": "markdown",
      "metadata": {
        "id": "Nup6SA57lDJC"
      },
      "source": [
        "## Pivot() method\n",
        "To improve the readability of grouped data."
      ]
    },
    {
      "cell_type": "code",
      "metadata": {
        "colab": {
          "base_uri": "https://localhost:8080/",
          "height": 173
        },
        "id": "gq5es9FNlDJC",
        "outputId": "8eb24f4f-612b-4a21-d464-ef64b1e24220"
      },
      "source": [
        "df_grp = df_test.groupby(['Customer Type','Payment Type'], as_index = False).mean()\n",
        "df_grp.pivot(index = 'Customer Type', columns = 'Payment Type')"
      ],
      "execution_count": null,
      "outputs": [
        {
          "output_type": "execute_result",
          "data": {
            "text/html": [
              "<div>\n",
              "<style scoped>\n",
              "    .dataframe tbody tr th:only-of-type {\n",
              "        vertical-align: middle;\n",
              "    }\n",
              "\n",
              "    .dataframe tbody tr th {\n",
              "        vertical-align: top;\n",
              "    }\n",
              "\n",
              "    .dataframe thead tr th {\n",
              "        text-align: left;\n",
              "    }\n",
              "\n",
              "    .dataframe thead tr:last-of-type th {\n",
              "        text-align: right;\n",
              "    }\n",
              "</style>\n",
              "<table border=\"1\" class=\"dataframe\">\n",
              "  <thead>\n",
              "    <tr>\n",
              "      <th></th>\n",
              "      <th colspan=\"3\" halign=\"left\">Sales</th>\n",
              "    </tr>\n",
              "    <tr>\n",
              "      <th>Payment Type</th>\n",
              "      <th>Cash</th>\n",
              "      <th>Credit Card</th>\n",
              "      <th>Transfer</th>\n",
              "    </tr>\n",
              "    <tr>\n",
              "      <th>Customer Type</th>\n",
              "      <th></th>\n",
              "      <th></th>\n",
              "      <th></th>\n",
              "    </tr>\n",
              "  </thead>\n",
              "  <tbody>\n",
              "    <tr>\n",
              "      <th>Company</th>\n",
              "      <td>530185.0</td>\n",
              "      <td>711425.666667</td>\n",
              "      <td>503756.00</td>\n",
              "    </tr>\n",
              "    <tr>\n",
              "      <th>Person</th>\n",
              "      <td>547179.0</td>\n",
              "      <td>508875.000000</td>\n",
              "      <td>562447.75</td>\n",
              "    </tr>\n",
              "  </tbody>\n",
              "</table>\n",
              "</div>"
            ],
            "text/plain": [
              "                  Sales                          \n",
              "Payment Type       Cash    Credit Card   Transfer\n",
              "Customer Type                                    \n",
              "Company        530185.0  711425.666667  503756.00\n",
              "Person         547179.0  508875.000000  562447.75"
            ]
          },
          "metadata": {},
          "execution_count": 15
        }
      ]
    },
    {
      "cell_type": "markdown",
      "metadata": {
        "id": "6aUEinX5lDJC"
      },
      "source": [
        "## Heatmap\n",
        "Notice that the heatmap is built from the pivot of the grouped data."
      ]
    },
    {
      "cell_type": "code",
      "metadata": {
        "colab": {
          "base_uri": "https://localhost:8080/",
          "height": 269
        },
        "id": "TZk9mSUflDJD",
        "outputId": "74a442fa-6194-45b0-b9b3-2902d08e08dd"
      },
      "source": [
        "df_pivot = df_grp.pivot(index = 'Customer Type', columns = 'Payment Type')\n",
        "plt.pcolor(df_pivot, cmap = 'RdBu')\n",
        "plt.colorbar()\n",
        "plt.show()"
      ],
      "execution_count": null,
      "outputs": [
        {
          "output_type": "display_data",
          "data": {
            "image/png": "[encoded data removed]",
            "text/plain": [
              "<Figure size 432x288 with 2 Axes>"
            ]
          },
          "metadata": {
            "needs_background": "light"
          }
        }
      ]
    },
    {
      "cell_type": "markdown",
      "metadata": {
        "id": "rj2aIEohlDJD"
      },
      "source": [
        "We customize the Heatmap for a better presentation."
      ]
    },
    {
      "cell_type": "code",
      "metadata": {
        "colab": {
          "base_uri": "https://localhost:8080/",
          "height": 312
        },
        "id": "MF0yp9szlDJD",
        "outputId": "53294b3c-1484-4635-8463-2e647b7096c9"
      },
      "source": [
        "fig, ax = plt.subplots()\n",
        "im = ax.pcolor(df_pivot, cmap='RdBu')\n",
        "\n",
        "#Label names\n",
        "row_labels = df_pivot.columns.levels[1]\n",
        "col_labels = df_pivot.index\n",
        "\n",
        "#move ticks and labels to the center\n",
        "ax.set_xticks(np.arange(df_pivot.shape[1]) + 0.5, minor=False)\n",
        "ax.set_yticks(np.arange(df_pivot.shape[0]) + 0.5, minor=False)\n",
        "\n",
        "#Insert labels\n",
        "ax.set_xticklabels(row_labels, minor=False)\n",
        "ax.set_yticklabels(col_labels, minor=False)\n",
        "\n",
        "#Rotate label if too long\n",
        "plt.xticks(rotation=90)\n",
        "\n",
        "fig.colorbar(im)\n",
        "plt.show()"
      ],
      "execution_count": null,
      "outputs": [
        {
          "output_type": "display_data",
          "data": {
            "image/png": "[encoded data removed]",
            "text/plain": [
              "<Figure size 432x288 with 2 Axes>"
            ]
          },
          "metadata": {
            "needs_background": "light"
          }
        }
      ]
    },
    {
      "cell_type": "markdown",
      "metadata": {
        "id": "SxhQN1GvlDJD"
      },
      "source": [
        "## Box Plots\n",
        "Using the standard library."
      ]
    },
    {
      "cell_type": "code",
      "metadata": {
        "colab": {
          "base_uri": "https://localhost:8080/",
          "height": 444
        },
        "id": "1lHy-ca0lDJE",
        "outputId": "30ed473b-3e4f-4f96-8a16-6f135da4079d"
      },
      "source": [
        "#We only take the variable sales.\n",
        "df_oper_sales = df_operations.loc[:,'Sales']\n",
        "\n",
        "df_oper_sales.plot(kind='box', figsize=(3,7))\n",
        "plt.title('Box Plot')\n",
        "plt.show()"
      ],
      "execution_count": null,
      "outputs": [
        {
          "output_type": "display_data",
          "data": {
            "image/png": "[encoded data removed]",
            "text/plain": [
              "<Figure size 216x504 with 1 Axes>"
            ]
          },
          "metadata": {
            "needs_background": "light"
          }
        }
      ]
    },
    {
      "cell_type": "markdown",
      "metadata": {
        "id": "RNydvAdulDJE"
      },
      "source": [
        "Using the seaborn library. A box plot of sales by continent."
      ]
    },
    {
      "cell_type": "code",
      "metadata": {
        "colab": {
          "base_uri": "https://localhost:8080/",
          "height": 296
        },
        "id": "Gv0yoLUKlDJE",
        "outputId": "0a206fc7-acb8-46c8-f3f4-01393108f664"
      },
      "source": [
        "sns.boxplot(x=\"Continent\", y=\"Sales\", data=df_operations)"
      ],
      "execution_count": null,
      "outputs": [
        {
          "output_type": "execute_result",
          "data": {
            "text/plain": [
              "<matplotlib.axes._subplots.AxesSubplot at 0x7f5033873d50>"
            ]
          },
          "metadata": {},
          "execution_count": 19
        },
        {
          "output_type": "display_data",
          "data": {
            "image/png": "[encoded data removed]",
            "text/plain": [
              "<Figure size 432x288 with 1 Axes>"
            ]
          },
          "metadata": {
            "needs_background": "light"
          }
        }
      ]
    },
    {
      "cell_type": "markdown",
      "metadata": {
        "id": "iz149W-TlDJF"
      },
      "source": [
        "### Practice One\n",
        "Use the value_counts() method to summarize the \"Payment Type\" categorical variable."
      ]
    },
    {
      "cell_type": "code",
      "metadata": {
        "colab": {
          "base_uri": "https://localhost:8080/",
          "height": 142
        },
        "id": "K-KsB6_DlDJF",
        "outputId": "844501ba-373e-45b2-ec02-7b8c7ef3a79e"
      },
      "source": [
        "# Type your code here\n",
        "df_pay_type_counts = df_operations[\"Payment Type\"].value_counts()\n",
        "df_pay_type_counts = df_pay_type_counts.to_frame()\n",
        "df_pay_type_counts\n"
      ],
      "execution_count": null,
      "outputs": [
        {
          "output_type": "execute_result",
          "data": {
            "text/html": [
              "<div>\n",
              "<style scoped>\n",
              "    .dataframe tbody tr th:only-of-type {\n",
              "        vertical-align: middle;\n",
              "    }\n",
              "\n",
              "    .dataframe tbody tr th {\n",
              "        vertical-align: top;\n",
              "    }\n",
              "\n",
              "    .dataframe thead th {\n",
              "        text-align: right;\n",
              "    }\n",
              "</style>\n",
              "<table border=\"1\" class=\"dataframe\">\n",
              "  <thead>\n",
              "    <tr style=\"text-align: right;\">\n",
              "      <th></th>\n",
              "      <th>Payment Type</th>\n",
              "    </tr>\n",
              "  </thead>\n",
              "  <tbody>\n",
              "    <tr>\n",
              "      <th>Cash</th>\n",
              "      <td>8</td>\n",
              "    </tr>\n",
              "    <tr>\n",
              "      <th>Transfer</th>\n",
              "      <td>6</td>\n",
              "    </tr>\n",
              "    <tr>\n",
              "      <th>Credit Card</th>\n",
              "      <td>5</td>\n",
              "    </tr>\n",
              "  </tbody>\n",
              "</table>\n",
              "</div>"
            ],
            "text/plain": [
              "             Payment Type\n",
              "Cash                    8\n",
              "Transfer                6\n",
              "Credit Card             5"
            ]
          },
          "metadata": {},
          "execution_count": 22
        }
      ]
    },
    {
      "cell_type": "markdown",
      "metadata": {
        "id": "qsHN-PwmlDJF"
      },
      "source": [
        "### Practice Two\n",
        "Build a Heatmap to see how \"Sales\" are related to \"Customer Type\" and \"Country\"."
      ]
    },
    {
      "cell_type": "code",
      "metadata": {
        "colab": {
          "base_uri": "https://localhost:8080/",
          "height": 204
        },
        "id": "Htv09K4vlDJF",
        "outputId": "1c05ff2f-89e4-4fc0-d7f6-7fac39faca7c"
      },
      "source": [
        "# Type your code here\n",
        "df_test3 = df_operations[[\"Country\", \"Customer Type\",\"Sales\"]]\n",
        "df_test3.head()"
      ],
      "execution_count": null,
      "outputs": [
        {
          "output_type": "execute_result",
          "data": {
            "text/html": [
              "<div>\n",
              "<style scoped>\n",
              "    .dataframe tbody tr th:only-of-type {\n",
              "        vertical-align: middle;\n",
              "    }\n",
              "\n",
              "    .dataframe tbody tr th {\n",
              "        vertical-align: top;\n",
              "    }\n",
              "\n",
              "    .dataframe thead th {\n",
              "        text-align: right;\n",
              "    }\n",
              "</style>\n",
              "<table border=\"1\" class=\"dataframe\">\n",
              "  <thead>\n",
              "    <tr style=\"text-align: right;\">\n",
              "      <th></th>\n",
              "      <th>Country</th>\n",
              "      <th>Customer Type</th>\n",
              "      <th>Sales</th>\n",
              "    </tr>\n",
              "  </thead>\n",
              "  <tbody>\n",
              "    <tr>\n",
              "      <th>0</th>\n",
              "      <td>Canada</td>\n",
              "      <td>Person</td>\n",
              "      <td>150000</td>\n",
              "    </tr>\n",
              "    <tr>\n",
              "      <th>1</th>\n",
              "      <td>Japan</td>\n",
              "      <td>Company</td>\n",
              "      <td>651750</td>\n",
              "    </tr>\n",
              "    <tr>\n",
              "      <th>2</th>\n",
              "      <td>Mexico</td>\n",
              "      <td>Company</td>\n",
              "      <td>563750</td>\n",
              "    </tr>\n",
              "    <tr>\n",
              "      <th>3</th>\n",
              "      <td>Spain</td>\n",
              "      <td>Company</td>\n",
              "      <td>706250</td>\n",
              "    </tr>\n",
              "    <tr>\n",
              "      <th>4</th>\n",
              "      <td>Argentina</td>\n",
              "      <td>Person</td>\n",
              "      <td>640375</td>\n",
              "    </tr>\n",
              "  </tbody>\n",
              "</table>\n",
              "</div>"
            ],
            "text/plain": [
              "     Country Customer Type   Sales\n",
              "0     Canada        Person  150000\n",
              "1      Japan       Company  651750\n",
              "2     Mexico       Company  563750\n",
              "3      Spain       Company  706250\n",
              "4  Argentina        Person  640375"
            ]
          },
          "metadata": {},
          "execution_count": 24
        }
      ]
    },
    {
      "cell_type": "code",
      "metadata": {
        "id": "NfBKUfdlyUrv"
      },
      "source": [
        "df_grp2 = df_test3.groupby([\"Country\", \"Customer Type\"],as_index = False).mean()"
      ],
      "execution_count": null,
      "outputs": []
    },
    {
      "cell_type": "code",
      "metadata": {
        "colab": {
          "base_uri": "https://localhost:8080/",
          "height": 269
        },
        "id": "QGPOjSdTnZZs",
        "outputId": "2565fd4f-7e80-4528-d4b0-83ea2f3f144d"
      },
      "source": [
        "df_pivot2 = df_grp2.pivot(index = 'Country', columns = 'Customer Type')\n",
        "\n",
        "plt.pcolor(df_pivot2, cmap = 'RdBu')\n",
        "plt.colorbar()\n",
        "plt.show()"
      ],
      "execution_count": null,
      "outputs": [
        {
          "output_type": "display_data",
          "data": {
            "image/png": "[encoded data removed]",
            "text/plain": [
              "<Figure size 432x288 with 2 Axes>"
            ]
          },
          "metadata": {
            "needs_background": "light"
          }
        }
      ]
    }
  ]
}