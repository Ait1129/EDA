{
  "nbformat": 4,
  "nbformat_minor": 0,
  "metadata": {
    "kernelspec": {
      "display_name": "Python 3",
      "language": "python",
      "name": "python3"
    },
    "language_info": {
      "codemirror_mode": {
        "name": "ipython",
        "version": 3
      },
      "file_extension": ".py",
      "mimetype": "text/x-python",
      "name": "python",
      "nbconvert_exporter": "python",
      "pygments_lexer": "ipython3",
      "version": "3.8.3"
    },
    "colab": {
      "name": "EDA2.ipynb",
      "provenance": []
    }
  },
  "cells": [
    {
      "cell_type": "markdown",
      "metadata": {
        "id": "W85BPfe1zaZg"
      },
      "source": [
        "# Statistics Introduction Applied to Data Science\n",
        "## Lab : Seven\n",
        "## Exploratory Data Analysis - Part Two"
      ]
    },
    {
      "cell_type": "code",
      "metadata": {
        "colab": {
          "base_uri": "https://localhost:8080/"
        },
        "id": "67elsjRVzaZk",
        "outputId": "21e14efc-684f-4bd7-a2af-dd0e58e06109"
      },
      "source": [
        "%matplotlib inline\n",
        "import matplotlib as mpl\n",
        "import matplotlib.pyplot as plt\n",
        "\n",
        "mpl.style.use('ggplot') #optional: for ggplot-like style\n",
        "\n",
        "# To check the latest version of Matplotlib library.\n",
        "print('Matplotlib version:', mpl.__version__) # >= 2.0.0"
      ],
      "execution_count": null,
      "outputs": [
        {
          "output_type": "stream",
          "name": "stdout",
          "text": [
            "Matplotlib version: 3.2.2\n"
          ]
        }
      ]
    },
    {
      "cell_type": "code",
      "metadata": {
        "id": "nYWLKc-rzaZm"
      },
      "source": [
        "import numpy as np\n",
        "import pandas as pd"
      ],
      "execution_count": null,
      "outputs": []
    },
    {
      "cell_type": "code",
      "metadata": {
        "colab": {
          "base_uri": "https://localhost:8080/"
        },
        "id": "yaarJfG9zokT",
        "outputId": "747592c5-e505-4e2c-de7f-1199839217ef"
      },
      "source": [
        "from google.colab import drive\n",
        "drive.mount('/content/drive')"
      ],
      "execution_count": null,
      "outputs": [
        {
          "output_type": "stream",
          "name": "stdout",
          "text": [
            "Mounted at /content/drive\n"
          ]
        }
      ]
    },
    {
      "cell_type": "code",
      "metadata": {
        "id": "2XdgaNFDzaZn"
      },
      "source": [
        "df_fat = pd.read_csv('/content/drive/MyDrive/Data/Fat_Supply_Quantity_Data.csv')"
      ],
      "execution_count": null,
      "outputs": []
    },
    {
      "cell_type": "code",
      "metadata": {
        "colab": {
          "base_uri": "https://localhost:8080/",
          "height": 292
        },
        "id": "N--zz-d8zaZn",
        "outputId": "cc7cd925-bf1e-43d5-dd0b-e9382ef78614"
      },
      "source": [
        "df_fat.head()"
      ],
      "execution_count": null,
      "outputs": [
        {
          "output_type": "execute_result",
          "data": {
            "text/html": [
              "<div>\n",
              "<style scoped>\n",
              "    .dataframe tbody tr th:only-of-type {\n",
              "        vertical-align: middle;\n",
              "    }\n",
              "\n",
              "    .dataframe tbody tr th {\n",
              "        vertical-align: top;\n",
              "    }\n",
              "\n",
              "    .dataframe thead th {\n",
              "        text-align: right;\n",
              "    }\n",
              "</style>\n",
              "<table border=\"1\" class=\"dataframe\">\n",
              "  <thead>\n",
              "    <tr style=\"text-align: right;\">\n",
              "      <th></th>\n",
              "      <th>Country</th>\n",
              "      <th>Alcoholic Beverages</th>\n",
              "      <th>Animal Products</th>\n",
              "      <th>Animal fats</th>\n",
              "      <th>Aquatic Products, Other</th>\n",
              "      <th>Cereals - Excluding Beer</th>\n",
              "      <th>Eggs</th>\n",
              "      <th>Fish, Seafood</th>\n",
              "      <th>Fruits - Excluding Wine</th>\n",
              "      <th>Meat</th>\n",
              "      <th>Miscellaneous</th>\n",
              "      <th>Milk - Excluding Butter</th>\n",
              "      <th>Offals</th>\n",
              "      <th>Oilcrops</th>\n",
              "      <th>Pulses</th>\n",
              "      <th>Spices</th>\n",
              "      <th>Starchy Roots</th>\n",
              "      <th>Stimulants</th>\n",
              "      <th>Sugar Crops</th>\n",
              "      <th>Sugar &amp; Sweeteners</th>\n",
              "      <th>Treenuts</th>\n",
              "      <th>Vegetal Products</th>\n",
              "      <th>Vegetable Oils</th>\n",
              "      <th>Vegetables</th>\n",
              "      <th>Obesity</th>\n",
              "      <th>Undernourished</th>\n",
              "      <th>Confirmed</th>\n",
              "      <th>Deaths</th>\n",
              "      <th>Recovered</th>\n",
              "      <th>Active</th>\n",
              "      <th>Population</th>\n",
              "      <th>Unit (all except Population)</th>\n",
              "    </tr>\n",
              "  </thead>\n",
              "  <tbody>\n",
              "    <tr>\n",
              "      <th>0</th>\n",
              "      <td>Afghanistan</td>\n",
              "      <td>0.0</td>\n",
              "      <td>21.6397</td>\n",
              "      <td>6.2224</td>\n",
              "      <td>0.0</td>\n",
              "      <td>8.0353</td>\n",
              "      <td>0.6859</td>\n",
              "      <td>0.0327</td>\n",
              "      <td>0.4246</td>\n",
              "      <td>6.1244</td>\n",
              "      <td>0.0163</td>\n",
              "      <td>8.2803</td>\n",
              "      <td>0.3103</td>\n",
              "      <td>1.0452</td>\n",
              "      <td>0.1960</td>\n",
              "      <td>0.2776</td>\n",
              "      <td>0.0490</td>\n",
              "      <td>0.0980</td>\n",
              "      <td>0.0</td>\n",
              "      <td>0.0</td>\n",
              "      <td>0.7513</td>\n",
              "      <td>28.3684</td>\n",
              "      <td>17.0831</td>\n",
              "      <td>0.3593</td>\n",
              "      <td>4.5</td>\n",
              "      <td>29.8</td>\n",
              "      <td>0.053472</td>\n",
              "      <td>0.000938</td>\n",
              "      <td>0.004929</td>\n",
              "      <td>0.047605</td>\n",
              "      <td>38042000.0</td>\n",
              "      <td>%</td>\n",
              "    </tr>\n",
              "    <tr>\n",
              "      <th>1</th>\n",
              "      <td>Albania</td>\n",
              "      <td>0.0</td>\n",
              "      <td>32.0002</td>\n",
              "      <td>3.4172</td>\n",
              "      <td>0.0</td>\n",
              "      <td>2.6734</td>\n",
              "      <td>1.6448</td>\n",
              "      <td>0.1445</td>\n",
              "      <td>0.6418</td>\n",
              "      <td>8.7428</td>\n",
              "      <td>0.0170</td>\n",
              "      <td>17.7576</td>\n",
              "      <td>0.2933</td>\n",
              "      <td>3.1622</td>\n",
              "      <td>0.1148</td>\n",
              "      <td>0.0000</td>\n",
              "      <td>0.0510</td>\n",
              "      <td>0.5270</td>\n",
              "      <td>0.0</td>\n",
              "      <td>0.0</td>\n",
              "      <td>0.9181</td>\n",
              "      <td>17.9998</td>\n",
              "      <td>9.2443</td>\n",
              "      <td>0.6503</td>\n",
              "      <td>22.3</td>\n",
              "      <td>6.2</td>\n",
              "      <td>0.043597</td>\n",
              "      <td>0.001190</td>\n",
              "      <td>0.032820</td>\n",
              "      <td>0.009587</td>\n",
              "      <td>2858000.0</td>\n",
              "      <td>%</td>\n",
              "    </tr>\n",
              "    <tr>\n",
              "      <th>2</th>\n",
              "      <td>Algeria</td>\n",
              "      <td>0.0</td>\n",
              "      <td>14.4175</td>\n",
              "      <td>0.8972</td>\n",
              "      <td>0.0</td>\n",
              "      <td>4.2035</td>\n",
              "      <td>1.2171</td>\n",
              "      <td>0.2008</td>\n",
              "      <td>0.5772</td>\n",
              "      <td>3.8961</td>\n",
              "      <td>0.0439</td>\n",
              "      <td>8.0934</td>\n",
              "      <td>0.1067</td>\n",
              "      <td>1.1983</td>\n",
              "      <td>0.2698</td>\n",
              "      <td>0.1568</td>\n",
              "      <td>0.1129</td>\n",
              "      <td>0.2886</td>\n",
              "      <td>0.0</td>\n",
              "      <td>0.0</td>\n",
              "      <td>0.8595</td>\n",
              "      <td>35.5857</td>\n",
              "      <td>27.3606</td>\n",
              "      <td>0.5145</td>\n",
              "      <td>26.6</td>\n",
              "      <td>3.9</td>\n",
              "      <td>0.023393</td>\n",
              "      <td>0.001629</td>\n",
              "      <td>0.015475</td>\n",
              "      <td>0.006289</td>\n",
              "      <td>43406000.0</td>\n",
              "      <td>%</td>\n",
              "    </tr>\n",
              "    <tr>\n",
              "      <th>3</th>\n",
              "      <td>Angola</td>\n",
              "      <td>0.0</td>\n",
              "      <td>15.3041</td>\n",
              "      <td>1.3130</td>\n",
              "      <td>0.0</td>\n",
              "      <td>6.5545</td>\n",
              "      <td>0.1539</td>\n",
              "      <td>1.4155</td>\n",
              "      <td>0.3488</td>\n",
              "      <td>11.0268</td>\n",
              "      <td>0.0308</td>\n",
              "      <td>1.2309</td>\n",
              "      <td>0.1539</td>\n",
              "      <td>3.9902</td>\n",
              "      <td>0.3282</td>\n",
              "      <td>0.0103</td>\n",
              "      <td>0.7078</td>\n",
              "      <td>0.1128</td>\n",
              "      <td>0.0</td>\n",
              "      <td>0.0</td>\n",
              "      <td>0.0308</td>\n",
              "      <td>34.7010</td>\n",
              "      <td>22.4638</td>\n",
              "      <td>0.1231</td>\n",
              "      <td>6.8</td>\n",
              "      <td>25</td>\n",
              "      <td>0.000290</td>\n",
              "      <td>0.000013</td>\n",
              "      <td>0.000076</td>\n",
              "      <td>0.000200</td>\n",
              "      <td>31427000.0</td>\n",
              "      <td>%</td>\n",
              "    </tr>\n",
              "    <tr>\n",
              "      <th>4</th>\n",
              "      <td>Antigua and Barbuda</td>\n",
              "      <td>0.0</td>\n",
              "      <td>27.7033</td>\n",
              "      <td>4.6686</td>\n",
              "      <td>0.0</td>\n",
              "      <td>3.2153</td>\n",
              "      <td>0.3872</td>\n",
              "      <td>1.5263</td>\n",
              "      <td>1.2177</td>\n",
              "      <td>14.3202</td>\n",
              "      <td>0.0898</td>\n",
              "      <td>6.6607</td>\n",
              "      <td>0.1347</td>\n",
              "      <td>1.3579</td>\n",
              "      <td>0.0673</td>\n",
              "      <td>0.3591</td>\n",
              "      <td>0.0449</td>\n",
              "      <td>1.0549</td>\n",
              "      <td>0.0</td>\n",
              "      <td>0.0</td>\n",
              "      <td>0.2020</td>\n",
              "      <td>22.2995</td>\n",
              "      <td>14.4436</td>\n",
              "      <td>0.2469</td>\n",
              "      <td>19.1</td>\n",
              "      <td>NaN</td>\n",
              "      <td>0.026804</td>\n",
              "      <td>0.003093</td>\n",
              "      <td>0.020619</td>\n",
              "      <td>0.003093</td>\n",
              "      <td>97000.0</td>\n",
              "      <td>%</td>\n",
              "    </tr>\n",
              "  </tbody>\n",
              "</table>\n",
              "</div>"
            ],
            "text/plain": [
              "               Country  ...  Unit (all except Population)\n",
              "0          Afghanistan  ...                             %\n",
              "1              Albania  ...                             %\n",
              "2              Algeria  ...                             %\n",
              "3               Angola  ...                             %\n",
              "4  Antigua and Barbuda  ...                             %\n",
              "\n",
              "[5 rows x 32 columns]"
            ]
          },
          "metadata": {},
          "execution_count": 5
        }
      ]
    },
    {
      "cell_type": "code",
      "metadata": {
        "colab": {
          "base_uri": "https://localhost:8080/"
        },
        "id": "IuwYio1QzaZn",
        "outputId": "022f697c-d339-4879-efe4-922757217602"
      },
      "source": [
        "# let's examine the types of the column labels\n",
        "# We examine the data type of the column names and verify that they are type text (str)\n",
        "all(isinstance(column, str) for column in df_fat.columns)"
      ],
      "execution_count": null,
      "outputs": [
        {
          "output_type": "execute_result",
          "data": {
            "text/plain": [
              "True"
            ]
          },
          "metadata": {},
          "execution_count": 6
        }
      ]
    },
    {
      "cell_type": "code",
      "metadata": {
        "colab": {
          "base_uri": "https://localhost:8080/"
        },
        "id": "O859Sq-MzaZo",
        "outputId": "8c3a9738-7973-4ae0-daee-cfc02a9f7b44"
      },
      "source": [
        "df_fat.shape"
      ],
      "execution_count": null,
      "outputs": [
        {
          "output_type": "execute_result",
          "data": {
            "text/plain": [
              "(170, 32)"
            ]
          },
          "metadata": {},
          "execution_count": 7
        }
      ]
    },
    {
      "cell_type": "code",
      "metadata": {
        "colab": {
          "base_uri": "https://localhost:8080/"
        },
        "id": "PygxWBp4zaZo",
        "outputId": "e3088b2f-fd2c-4c23-b6c1-0d2fcff98a05"
      },
      "source": [
        "# We delete the empty rows of the Obesity variable, using dropna.\n",
        "df_fat.dropna(subset=[\"Obesity\"], axis=0, inplace = True)\n",
        "df_fat.shape"
      ],
      "execution_count": null,
      "outputs": [
        {
          "output_type": "execute_result",
          "data": {
            "text/plain": [
              "(167, 32)"
            ]
          },
          "metadata": {},
          "execution_count": 8
        }
      ]
    },
    {
      "cell_type": "code",
      "metadata": {
        "colab": {
          "base_uri": "https://localhost:8080/",
          "height": 306
        },
        "id": "Z68HJTY-zaZp",
        "outputId": "f052a558-7d0e-422c-e79f-2530e276dc10"
      },
      "source": [
        "# We make the country as the index of the dataframe to facilitate searches with loc method.\n",
        "df_fat.set_index('Country', inplace = True)\n",
        "df_fat.head()"
      ],
      "execution_count": null,
      "outputs": [
        {
          "output_type": "execute_result",
          "data": {
            "text/html": [
              "<div>\n",
              "<style scoped>\n",
              "    .dataframe tbody tr th:only-of-type {\n",
              "        vertical-align: middle;\n",
              "    }\n",
              "\n",
              "    .dataframe tbody tr th {\n",
              "        vertical-align: top;\n",
              "    }\n",
              "\n",
              "    .dataframe thead th {\n",
              "        text-align: right;\n",
              "    }\n",
              "</style>\n",
              "<table border=\"1\" class=\"dataframe\">\n",
              "  <thead>\n",
              "    <tr style=\"text-align: right;\">\n",
              "      <th></th>\n",
              "      <th>Alcoholic Beverages</th>\n",
              "      <th>Animal Products</th>\n",
              "      <th>Animal fats</th>\n",
              "      <th>Aquatic Products, Other</th>\n",
              "      <th>Cereals - Excluding Beer</th>\n",
              "      <th>Eggs</th>\n",
              "      <th>Fish, Seafood</th>\n",
              "      <th>Fruits - Excluding Wine</th>\n",
              "      <th>Meat</th>\n",
              "      <th>Miscellaneous</th>\n",
              "      <th>Milk - Excluding Butter</th>\n",
              "      <th>Offals</th>\n",
              "      <th>Oilcrops</th>\n",
              "      <th>Pulses</th>\n",
              "      <th>Spices</th>\n",
              "      <th>Starchy Roots</th>\n",
              "      <th>Stimulants</th>\n",
              "      <th>Sugar Crops</th>\n",
              "      <th>Sugar &amp; Sweeteners</th>\n",
              "      <th>Treenuts</th>\n",
              "      <th>Vegetal Products</th>\n",
              "      <th>Vegetable Oils</th>\n",
              "      <th>Vegetables</th>\n",
              "      <th>Obesity</th>\n",
              "      <th>Undernourished</th>\n",
              "      <th>Confirmed</th>\n",
              "      <th>Deaths</th>\n",
              "      <th>Recovered</th>\n",
              "      <th>Active</th>\n",
              "      <th>Population</th>\n",
              "      <th>Unit (all except Population)</th>\n",
              "    </tr>\n",
              "    <tr>\n",
              "      <th>Country</th>\n",
              "      <th></th>\n",
              "      <th></th>\n",
              "      <th></th>\n",
              "      <th></th>\n",
              "      <th></th>\n",
              "      <th></th>\n",
              "      <th></th>\n",
              "      <th></th>\n",
              "      <th></th>\n",
              "      <th></th>\n",
              "      <th></th>\n",
              "      <th></th>\n",
              "      <th></th>\n",
              "      <th></th>\n",
              "      <th></th>\n",
              "      <th></th>\n",
              "      <th></th>\n",
              "      <th></th>\n",
              "      <th></th>\n",
              "      <th></th>\n",
              "      <th></th>\n",
              "      <th></th>\n",
              "      <th></th>\n",
              "      <th></th>\n",
              "      <th></th>\n",
              "      <th></th>\n",
              "      <th></th>\n",
              "      <th></th>\n",
              "      <th></th>\n",
              "      <th></th>\n",
              "      <th></th>\n",
              "    </tr>\n",
              "  </thead>\n",
              "  <tbody>\n",
              "    <tr>\n",
              "      <th>Afghanistan</th>\n",
              "      <td>0.0</td>\n",
              "      <td>21.6397</td>\n",
              "      <td>6.2224</td>\n",
              "      <td>0.0</td>\n",
              "      <td>8.0353</td>\n",
              "      <td>0.6859</td>\n",
              "      <td>0.0327</td>\n",
              "      <td>0.4246</td>\n",
              "      <td>6.1244</td>\n",
              "      <td>0.0163</td>\n",
              "      <td>8.2803</td>\n",
              "      <td>0.3103</td>\n",
              "      <td>1.0452</td>\n",
              "      <td>0.1960</td>\n",
              "      <td>0.2776</td>\n",
              "      <td>0.0490</td>\n",
              "      <td>0.0980</td>\n",
              "      <td>0.0</td>\n",
              "      <td>0.0</td>\n",
              "      <td>0.7513</td>\n",
              "      <td>28.3684</td>\n",
              "      <td>17.0831</td>\n",
              "      <td>0.3593</td>\n",
              "      <td>4.5</td>\n",
              "      <td>29.8</td>\n",
              "      <td>0.053472</td>\n",
              "      <td>0.000938</td>\n",
              "      <td>0.004929</td>\n",
              "      <td>0.047605</td>\n",
              "      <td>38042000.0</td>\n",
              "      <td>%</td>\n",
              "    </tr>\n",
              "    <tr>\n",
              "      <th>Albania</th>\n",
              "      <td>0.0</td>\n",
              "      <td>32.0002</td>\n",
              "      <td>3.4172</td>\n",
              "      <td>0.0</td>\n",
              "      <td>2.6734</td>\n",
              "      <td>1.6448</td>\n",
              "      <td>0.1445</td>\n",
              "      <td>0.6418</td>\n",
              "      <td>8.7428</td>\n",
              "      <td>0.0170</td>\n",
              "      <td>17.7576</td>\n",
              "      <td>0.2933</td>\n",
              "      <td>3.1622</td>\n",
              "      <td>0.1148</td>\n",
              "      <td>0.0000</td>\n",
              "      <td>0.0510</td>\n",
              "      <td>0.5270</td>\n",
              "      <td>0.0</td>\n",
              "      <td>0.0</td>\n",
              "      <td>0.9181</td>\n",
              "      <td>17.9998</td>\n",
              "      <td>9.2443</td>\n",
              "      <td>0.6503</td>\n",
              "      <td>22.3</td>\n",
              "      <td>6.2</td>\n",
              "      <td>0.043597</td>\n",
              "      <td>0.001190</td>\n",
              "      <td>0.032820</td>\n",
              "      <td>0.009587</td>\n",
              "      <td>2858000.0</td>\n",
              "      <td>%</td>\n",
              "    </tr>\n",
              "    <tr>\n",
              "      <th>Algeria</th>\n",
              "      <td>0.0</td>\n",
              "      <td>14.4175</td>\n",
              "      <td>0.8972</td>\n",
              "      <td>0.0</td>\n",
              "      <td>4.2035</td>\n",
              "      <td>1.2171</td>\n",
              "      <td>0.2008</td>\n",
              "      <td>0.5772</td>\n",
              "      <td>3.8961</td>\n",
              "      <td>0.0439</td>\n",
              "      <td>8.0934</td>\n",
              "      <td>0.1067</td>\n",
              "      <td>1.1983</td>\n",
              "      <td>0.2698</td>\n",
              "      <td>0.1568</td>\n",
              "      <td>0.1129</td>\n",
              "      <td>0.2886</td>\n",
              "      <td>0.0</td>\n",
              "      <td>0.0</td>\n",
              "      <td>0.8595</td>\n",
              "      <td>35.5857</td>\n",
              "      <td>27.3606</td>\n",
              "      <td>0.5145</td>\n",
              "      <td>26.6</td>\n",
              "      <td>3.9</td>\n",
              "      <td>0.023393</td>\n",
              "      <td>0.001629</td>\n",
              "      <td>0.015475</td>\n",
              "      <td>0.006289</td>\n",
              "      <td>43406000.0</td>\n",
              "      <td>%</td>\n",
              "    </tr>\n",
              "    <tr>\n",
              "      <th>Angola</th>\n",
              "      <td>0.0</td>\n",
              "      <td>15.3041</td>\n",
              "      <td>1.3130</td>\n",
              "      <td>0.0</td>\n",
              "      <td>6.5545</td>\n",
              "      <td>0.1539</td>\n",
              "      <td>1.4155</td>\n",
              "      <td>0.3488</td>\n",
              "      <td>11.0268</td>\n",
              "      <td>0.0308</td>\n",
              "      <td>1.2309</td>\n",
              "      <td>0.1539</td>\n",
              "      <td>3.9902</td>\n",
              "      <td>0.3282</td>\n",
              "      <td>0.0103</td>\n",
              "      <td>0.7078</td>\n",
              "      <td>0.1128</td>\n",
              "      <td>0.0</td>\n",
              "      <td>0.0</td>\n",
              "      <td>0.0308</td>\n",
              "      <td>34.7010</td>\n",
              "      <td>22.4638</td>\n",
              "      <td>0.1231</td>\n",
              "      <td>6.8</td>\n",
              "      <td>25</td>\n",
              "      <td>0.000290</td>\n",
              "      <td>0.000013</td>\n",
              "      <td>0.000076</td>\n",
              "      <td>0.000200</td>\n",
              "      <td>31427000.0</td>\n",
              "      <td>%</td>\n",
              "    </tr>\n",
              "    <tr>\n",
              "      <th>Antigua and Barbuda</th>\n",
              "      <td>0.0</td>\n",
              "      <td>27.7033</td>\n",
              "      <td>4.6686</td>\n",
              "      <td>0.0</td>\n",
              "      <td>3.2153</td>\n",
              "      <td>0.3872</td>\n",
              "      <td>1.5263</td>\n",
              "      <td>1.2177</td>\n",
              "      <td>14.3202</td>\n",
              "      <td>0.0898</td>\n",
              "      <td>6.6607</td>\n",
              "      <td>0.1347</td>\n",
              "      <td>1.3579</td>\n",
              "      <td>0.0673</td>\n",
              "      <td>0.3591</td>\n",
              "      <td>0.0449</td>\n",
              "      <td>1.0549</td>\n",
              "      <td>0.0</td>\n",
              "      <td>0.0</td>\n",
              "      <td>0.2020</td>\n",
              "      <td>22.2995</td>\n",
              "      <td>14.4436</td>\n",
              "      <td>0.2469</td>\n",
              "      <td>19.1</td>\n",
              "      <td>NaN</td>\n",
              "      <td>0.026804</td>\n",
              "      <td>0.003093</td>\n",
              "      <td>0.020619</td>\n",
              "      <td>0.003093</td>\n",
              "      <td>97000.0</td>\n",
              "      <td>%</td>\n",
              "    </tr>\n",
              "  </tbody>\n",
              "</table>\n",
              "</div>"
            ],
            "text/plain": [
              "                     Alcoholic Beverages  ...  Unit (all except Population)\n",
              "Country                                   ...                              \n",
              "Afghanistan                          0.0  ...                             %\n",
              "Albania                              0.0  ...                             %\n",
              "Algeria                              0.0  ...                             %\n",
              "Angola                               0.0  ...                             %\n",
              "Antigua and Barbuda                  0.0  ...                             %\n",
              "\n",
              "[5 rows x 31 columns]"
            ]
          },
          "metadata": {},
          "execution_count": 9
        }
      ]
    },
    {
      "cell_type": "code",
      "metadata": {
        "colab": {
          "base_uri": "https://localhost:8080/"
        },
        "id": "D670NRO8zaZp",
        "outputId": "a122c2bc-10f4-44b8-ace4-b58498b85221"
      },
      "source": [
        "df_fat['Obesity'].head(10)"
      ],
      "execution_count": null,
      "outputs": [
        {
          "output_type": "execute_result",
          "data": {
            "text/plain": [
              "Country\n",
              "Afghanistan             4.5\n",
              "Albania                22.3\n",
              "Algeria                26.6\n",
              "Angola                  6.8\n",
              "Antigua and Barbuda    19.1\n",
              "Argentina              28.5\n",
              "Armenia                20.9\n",
              "Australia              30.4\n",
              "Austria                21.9\n",
              "Azerbaijan             19.9\n",
              "Name: Obesity, dtype: float64"
            ]
          },
          "metadata": {},
          "execution_count": 10
        }
      ]
    },
    {
      "cell_type": "markdown",
      "metadata": {
        "id": "UuAUa3oazaZq"
      },
      "source": [
        "## Histogram"
      ]
    },
    {
      "cell_type": "code",
      "metadata": {
        "colab": {
          "base_uri": "https://localhost:8080/",
          "height": 282
        },
        "id": "b2G4cn5_zaZq",
        "outputId": "d5bfcb0a-0872-4be3-aef1-cd882105d37b"
      },
      "source": [
        "# An easy way to create the histogram.\n",
        "df_fat['Obesity'].plot.hist()"
      ],
      "execution_count": null,
      "outputs": [
        {
          "output_type": "execute_result",
          "data": {
            "text/plain": [
              "<matplotlib.axes._subplots.AxesSubplot at 0x7fc5b26b4950>"
            ]
          },
          "metadata": {},
          "execution_count": 11
        },
        {
          "output_type": "display_data",
          "data": {
            "image/png": "[encoded data removed]",
            "text/plain": [
              "<Figure size 432x288 with 1 Axes>"
            ]
          },
          "metadata": {
            "needs_background": "light"
          }
        }
      ]
    },
    {
      "cell_type": "code",
      "metadata": {
        "colab": {
          "base_uri": "https://localhost:8080/"
        },
        "id": "u_T-rD_hzaZq",
        "outputId": "05a9dbae-a8a0-4bc1-fcce-967582e5c7f1"
      },
      "source": [
        "# np.histogram returns 2 values as lists. \n",
        "# The first list contains count or frequency of the variable.\n",
        "# The second list contains the class ranges.\n",
        "\n",
        "count, bin_edges = np.histogram(df_fat['Obesity'])\n",
        "\n",
        "print(count) # Number of frequencies\n",
        "print(bin_edges) # class range, by default: 10 bins"
      ],
      "execution_count": null,
      "outputs": [
        {
          "output_type": "stream",
          "name": "stdout",
          "text": [
            "[24 25 11 14 36 32 19  2  2  2]\n",
            "[ 2.1   6.45 10.8  15.15 19.5  23.85 28.2  32.55 36.9  41.25 45.6 ]\n"
          ]
        }
      ]
    },
    {
      "cell_type": "code",
      "metadata": {
        "colab": {
          "base_uri": "https://localhost:8080/",
          "height": 354
        },
        "id": "QS5MtPsSzaZr",
        "outputId": "dff8b759-4e1b-4b40-f234-ec9b0116bb4b"
      },
      "source": [
        "# With the parameter kind = 'hist' we indicate that we want to graph a histogram.\n",
        "# With the figsize parameter we indicate the size of the graph.\n",
        "# In the xticks parameter we indicate our class range. Notice that bin_edges is the second value returned by np.histogram.\n",
        "# With the title method we specify a title to the chart.\n",
        "# With the ylabel and xlabel methods we specify titles to the axes.\n",
        "\n",
        "df_fat['Obesity'].plot(kind='hist', figsize=(8,5), xticks=bin_edges)\n",
        "plt.title('Obesity Index Histogram on 167 countries')\n",
        "plt.ylabel('Countries')\n",
        "plt.xlabel('Obesity Index')\n",
        "\n",
        "plt.show()"
      ],
      "execution_count": null,
      "outputs": [
        {
          "output_type": "display_data",
          "data": {
            "image/png": "[encoded data removed]",
            "text/plain": [
              "<Figure size 576x360 with 1 Axes>"
            ]
          },
          "metadata": {
            "needs_background": "light"
          }
        }
      ]
    },
    {
      "cell_type": "markdown",
      "metadata": {
        "id": "xOFUWVZhzaZr"
      },
      "source": [
        "### Applying empirical criteria to determine class number and rank"
      ]
    },
    {
      "cell_type": "code",
      "metadata": {
        "colab": {
          "base_uri": "https://localhost:8080/"
        },
        "id": "PFteM-UezaZs",
        "outputId": "2243a454-65ee-4b17-a785-56f7feb8ecf0"
      },
      "source": [
        "# From 1 to 16\n",
        "for i in range(1,16):\n",
        "    class_count = i\n",
        "    # If the value of 2 raised to i is greater than the number of observations, we are done.\n",
        "    if 2 ** i > df_fat.shape[0]:\n",
        "       break\n",
        "\n",
        "# We apply the formula to calculate the class range.\n",
        "class_range = (df_fat['Obesity'].max() - df_fat['Obesity'].min())/class_count\n",
        "\n",
        "# print results.\n",
        "print('class count: ', class_count)\n",
        "print('class: range ', class_range)\n",
        "\n",
        "# Minimum and Maximum Obesity Index.\n",
        "print('Minimum: ', df_fat['Obesity'].min())\n",
        "print('Maximum: ', df_fat['Obesity'].max())"
      ],
      "execution_count": null,
      "outputs": [
        {
          "output_type": "stream",
          "name": "stdout",
          "text": [
            "class count:  8\n",
            "class: range  5.4375\n",
            "Minimum:  2.1\n",
            "Maximum:  45.6\n"
          ]
        }
      ]
    },
    {
      "cell_type": "markdown",
      "metadata": {
        "id": "CohoSgvrzaZs"
      },
      "source": [
        "### We create our own class range"
      ]
    },
    {
      "cell_type": "code",
      "metadata": {
        "id": "8aZajQLizaZt",
        "outputId": "f2171871-7750-428e-c47f-f845a0cc97c9"
      },
      "source": [
        "# We adjust the number of classes.\n",
        "num_bin = 9\n",
        "\n",
        "# We adjust the class range\n",
        "class_range = 5\n",
        "\n",
        "# In this list we save the class ranges.\n",
        "new_bin = []\n",
        "\n",
        "# In this list we keep the number of countries.\n",
        "ncount = []\n",
        "\n",
        "# Initializing range values.\n",
        "begin_value = 0\n",
        "end_value = 2\n",
        "new_bin.append(end_value)\n",
        "\n",
        "# Cycle to get class range.\n",
        "for i in range(num_bin):\n",
        "    # Increments the final value by the value of the class range.\n",
        "    end_value += class_range\n",
        "    \n",
        "    # Save the new range to the class list.\n",
        "    new_bin.append(end_value)\n",
        "\n",
        "    # We count the number of countries within the class range.\n",
        "    ncount.append(df_fat[(df_fat['Obesity'] >= begin_value) & (df_fat['Obesity'] < end_value)].shape[0])\n",
        "    \n",
        "    # The new starting value is the ending value.\n",
        "    begin_value = end_value\n",
        "\n",
        "print('Countries count: ', ncount)\n",
        "print('Class count:', new_bin)"
      ],
      "execution_count": null,
      "outputs": [
        {
          "name": "stdout",
          "output_type": "stream",
          "text": [
            "Countries count:  [29, 23, 12, 24, 47, 23, 5, 2, 2]\n",
            "Class count: [2, 7, 12, 17, 22, 27, 32, 37, 42, 47]\n"
          ]
        }
      ]
    },
    {
      "cell_type": "markdown",
      "metadata": {
        "id": "LJbFmwkYzaZt"
      },
      "source": [
        "### We use our custom class range to build the Histogram."
      ]
    },
    {
      "cell_type": "code",
      "metadata": {
        "id": "StkmhYcazaZu",
        "outputId": "71624dbe-04c0-43ef-ee92-28553f5aea00"
      },
      "source": [
        "# In parameters bins y xticks we specify our custom class range \"new_bin\".\n",
        "\n",
        "count, bin_edges = np.histogram(df_fat['Obesity'], num_bin)\n",
        "\n",
        "df_fat['Obesity'].plot(kind = 'hist',\n",
        "                       figsize = (8,5),\n",
        "                       bins = new_bin,\n",
        "                       xticks = new_bin,\n",
        "                       color ='mediumseagreen'\n",
        "                      )\n",
        "\n",
        "plt.title('Obesity Index Histogram on 167 countries')\n",
        "plt.ylabel('Countries')\n",
        "plt.xlabel('Obesity Index')\n",
        "\n",
        "plt.show()"
      ],
      "execution_count": null,
      "outputs": [
        {
          "data": {
            "image/png": "[encoded data removed]",
            "text/plain": [
              "<Figure size 576x360 with 1 Axes>"
            ]
          },
          "metadata": {},
          "output_type": "display_data"
        }
      ]
    },
    {
      "cell_type": "markdown",
      "metadata": {
        "id": "pvm-IeGpzaZu"
      },
      "source": [
        "Notice that the x-axis labels correspond to our custom class range. Some symmetry is seen in the distribution of the obesity rate if we compare the index ranges from 12 to 37.\n",
        "\n",
        "The largest group corresponds to countries that maintain an obesity rate between 22 and 27. According to the BMI classification table, this group made up of 47 countries is in a degree of pre-obesity. This is not very good news for health systems in general.\n"
      ]
    },
    {
      "cell_type": "code",
      "metadata": {
        "id": "qJ81tj7kzaZu",
        "outputId": "4844fe85-1eea-4ec9-98b3-0dca975747f6"
      },
      "source": [
        "# Let's explore the column names of our dataframe\n",
        "df_fat.columns.values"
      ],
      "execution_count": null,
      "outputs": [
        {
          "data": {
            "text/plain": [
              "array(['Alcoholic Beverages', 'Animal Products', 'Animal fats',\n",
              "       'Aquatic Products, Other', 'Cereals - Excluding Beer', 'Eggs',\n",
              "       'Fish, Seafood', 'Fruits - Excluding Wine', 'Meat',\n",
              "       'Miscellaneous', 'Milk - Excluding Butter', 'Offals', 'Oilcrops',\n",
              "       'Pulses', 'Spices', 'Starchy Roots', 'Stimulants', 'Sugar Crops',\n",
              "       'Sugar & Sweeteners', 'Treenuts', 'Vegetal Products',\n",
              "       'Vegetable Oils', 'Vegetables', 'Obesity', 'Undernourished',\n",
              "       'Confirmed', 'Deaths', 'Recovered', 'Active', 'Population',\n",
              "       'Unit (all except Population)'], dtype=object)"
            ]
          },
          "execution_count": 16,
          "metadata": {},
          "output_type": "execute_result"
        }
      ]
    },
    {
      "cell_type": "code",
      "metadata": {
        "id": "zajeSkYTzaZu",
        "outputId": "77c5d38c-c085-42e8-f703-5e61e5abad1d"
      },
      "source": [
        "# We can build histogram with multiple variables.\n",
        "df_fat[['Cereals - Excluding Beer','Meat', 'Milk - Excluding Butter']].plot(kind='hist', figsize=(10,6))\n",
        "\n",
        "plt.title('Fat Supply Quantity Data by Foods')\n",
        "plt.ylabel('Countries')\n",
        "plt.xlabel('Fat Suppy')\n",
        "\n",
        "plt.show()"
      ],
      "execution_count": null,
      "outputs": [
        {
          "data": {
            "image/png": "[encoded data removed]",
            "text/plain": [
              "<Figure size 720x432 with 1 Axes>"
            ]
          },
          "metadata": {},
          "output_type": "display_data"
        }
      ]
    },
    {
      "cell_type": "code",
      "metadata": {
        "id": "0-lVYe7zzaZv",
        "outputId": "e57907c6-a0ba-4334-ab17-9788cccb4622"
      },
      "source": [
        "# We define a new dataframe called df_three with our three variables of interest.\n",
        "# With np.histogram we obtain the frequencies and the class range.\n",
        "\n",
        "df_three = df_fat[['Cereals - Excluding Beer','Meat','Milk - Excluding Butter']]\n",
        "count, bin_edges = np.histogram(df_three, 10)\n",
        "\n",
        "#un-staked histogram\n",
        "df_three.plot(kind = 'hist',\n",
        "             figsize=(13, 8),\n",
        "             bins = 10,\n",
        "             alpha=0.6,\n",
        "             xticks=bin_edges,\n",
        "             color=['Orange','darkslateblue','mediumseagreen']\n",
        "            )\n",
        "\n",
        "plt.title('Fat Supply Quantity Data by three Foods')\n",
        "plt.ylabel('Countries')\n",
        "plt.xlabel('Fat Supply')\n",
        "\n",
        "plt.show()"
      ],
      "execution_count": null,
      "outputs": [
        {
          "data": {
            "image/png": "[encoded data removed]",
            "text/plain": [
              "<Figure size 936x576 with 1 Axes>"
            ]
          },
          "metadata": {},
          "output_type": "display_data"
        }
      ]
    },
    {
      "cell_type": "markdown",
      "metadata": {
        "id": "2iumhNrOzaZv"
      },
      "source": [
        "Both cereals and milk show a positive asymmetric distribution, which indicates that the fat intake from these sources is very low. Notice how different is the distribution of fat from meat, which on average contributes between 5.43 and 10.68 percent, in around 80 countries."
      ]
    },
    {
      "cell_type": "markdown",
      "metadata": {
        "id": "adwguZDmzaZw"
      },
      "source": [
        "## Pearson's correlation coefficient and p value."
      ]
    },
    {
      "cell_type": "markdown",
      "metadata": {
        "id": "HWSsua3SzaZw"
      },
      "source": [
        "We need the scipy stats library for the correlation coefficient."
      ]
    },
    {
      "cell_type": "code",
      "metadata": {
        "id": "tDf4Sr4czaZw"
      },
      "source": [
        "from scipy import stats"
      ],
      "execution_count": null,
      "outputs": []
    },
    {
      "cell_type": "markdown",
      "metadata": {
        "id": "Ox8XGVu8zaZw"
      },
      "source": [
        "### Let's explore some relationships of sources fat vs. obesity."
      ]
    },
    {
      "cell_type": "markdown",
      "metadata": {
        "id": "1fwG9Dl2zaZw"
      },
      "source": [
        "Meat vs Obesity."
      ]
    },
    {
      "cell_type": "code",
      "metadata": {
        "id": "uKjtlZRIzaZx",
        "outputId": "28a18217-d161-4a99-e64b-aba04c9fed45"
      },
      "source": [
        "pearson_coef, p_value = stats.pearsonr(df_fat['Meat'], df_fat['Obesity'])\n",
        "print(\"Pearson's correlation coefficient: \", pearson_coef, \" p value: \", p_value)\n",
        "\n",
        "if p_value < 0.001:\n",
        "    print(\"High certainty\")\n",
        "elif p_value < 0.05:\n",
        "    print(\"Moderate certainty\")\n",
        "elif p_value < 0.1:\n",
        "    print(\"Low certainty\")\n",
        "else:\n",
        "    print(\"Lack of certainty\")\n"
      ],
      "execution_count": null,
      "outputs": [
        {
          "name": "stdout",
          "output_type": "stream",
          "text": [
            "Pearson's correlation coefficient:  0.21991902377261702  p value:  0.00429447433848602\n",
            "Moderate certainty\n"
          ]
        }
      ]
    },
    {
      "cell_type": "markdown",
      "metadata": {
        "id": "3OQjRKpOzaZx"
      },
      "source": [
        "Animal Products vs Obesity."
      ]
    },
    {
      "cell_type": "code",
      "metadata": {
        "id": "f0Q7lYPHzaZx",
        "outputId": "17709d4b-f432-4a8c-a4e9-0981c0e02a92"
      },
      "source": [
        "pearson_coef, p_value = stats.pearsonr(df_fat['Animal Products'], df_fat['Obesity'])\n",
        "print(\"Pearson's correlation coefficient: \", pearson_coef, \" p value: \", p_value)\n",
        "\n",
        "if p_value < 0.001:\n",
        "    print(\"High certainty\")\n",
        "elif p_value < 0.05:\n",
        "    print(\"Moderate certainty\")\n",
        "elif p_value < 0.1:\n",
        "    print(\"Low certainty\")\n",
        "else:\n",
        "    print(\"ALack of certainty\")\n"
      ],
      "execution_count": null,
      "outputs": [
        {
          "name": "stdout",
          "output_type": "stream",
          "text": [
            "Pearson's correlation coefficient:  0.4174898598640965  p value:  1.9873369451159758e-08\n",
            "High certainty\n"
          ]
        }
      ]
    },
    {
      "cell_type": "markdown",
      "metadata": {
        "id": "gb8G-CvizaZx"
      },
      "source": [
        "To analyze several coefficients it is better to construct a correlation matrix. We do this with corr() method"
      ]
    },
    {
      "cell_type": "code",
      "metadata": {
        "id": "K9mDV_dpzaZx",
        "outputId": "dfde3f03-65dc-4ff6-ac2b-0a1b45cab738"
      },
      "source": [
        "df_fat[['Animal Products','Meat','Cereals - Excluding Beer','Sugar & Sweeteners','Obesity']].corr()"
      ],
      "execution_count": null,
      "outputs": [
        {
          "data": {
            "text/html": [
              "<div>\n",
              "<style scoped>\n",
              "    .dataframe tbody tr th:only-of-type {\n",
              "        vertical-align: middle;\n",
              "    }\n",
              "\n",
              "    .dataframe tbody tr th {\n",
              "        vertical-align: top;\n",
              "    }\n",
              "\n",
              "    .dataframe thead th {\n",
              "        text-align: right;\n",
              "    }\n",
              "</style>\n",
              "<table border=\"1\" class=\"dataframe\">\n",
              "  <thead>\n",
              "    <tr style=\"text-align: right;\">\n",
              "      <th></th>\n",
              "      <th>Animal Products</th>\n",
              "      <th>Meat</th>\n",
              "      <th>Cereals - Excluding Beer</th>\n",
              "      <th>Sugar &amp; Sweeteners</th>\n",
              "      <th>Obesity</th>\n",
              "    </tr>\n",
              "  </thead>\n",
              "  <tbody>\n",
              "    <tr>\n",
              "      <th>Animal Products</th>\n",
              "      <td>1.000000</td>\n",
              "      <td>0.738702</td>\n",
              "      <td>-0.459064</td>\n",
              "      <td>-0.016549</td>\n",
              "      <td>0.417490</td>\n",
              "    </tr>\n",
              "    <tr>\n",
              "      <th>Meat</th>\n",
              "      <td>0.738702</td>\n",
              "      <td>1.000000</td>\n",
              "      <td>-0.270603</td>\n",
              "      <td>0.095534</td>\n",
              "      <td>0.219919</td>\n",
              "    </tr>\n",
              "    <tr>\n",
              "      <th>Cereals - Excluding Beer</th>\n",
              "      <td>-0.459064</td>\n",
              "      <td>-0.270603</td>\n",
              "      <td>1.000000</td>\n",
              "      <td>-0.003046</td>\n",
              "      <td>-0.488142</td>\n",
              "    </tr>\n",
              "    <tr>\n",
              "      <th>Sugar &amp; Sweeteners</th>\n",
              "      <td>-0.016549</td>\n",
              "      <td>0.095534</td>\n",
              "      <td>-0.003046</td>\n",
              "      <td>1.000000</td>\n",
              "      <td>-0.163192</td>\n",
              "    </tr>\n",
              "    <tr>\n",
              "      <th>Obesity</th>\n",
              "      <td>0.417490</td>\n",
              "      <td>0.219919</td>\n",
              "      <td>-0.488142</td>\n",
              "      <td>-0.163192</td>\n",
              "      <td>1.000000</td>\n",
              "    </tr>\n",
              "  </tbody>\n",
              "</table>\n",
              "</div>"
            ],
            "text/plain": [
              "                          Animal Products      Meat  Cereals - Excluding Beer  \\\n",
              "Animal Products                  1.000000  0.738702                 -0.459064   \n",
              "Meat                             0.738702  1.000000                 -0.270603   \n",
              "Cereals - Excluding Beer        -0.459064 -0.270603                  1.000000   \n",
              "Sugar & Sweeteners              -0.016549  0.095534                 -0.003046   \n",
              "Obesity                          0.417490  0.219919                 -0.488142   \n",
              "\n",
              "                          Sugar & Sweeteners   Obesity  \n",
              "Animal Products                    -0.016549  0.417490  \n",
              "Meat                                0.095534  0.219919  \n",
              "Cereals - Excluding Beer           -0.003046 -0.488142  \n",
              "Sugar & Sweeteners                  1.000000 -0.163192  \n",
              "Obesity                            -0.163192  1.000000  "
            ]
          },
          "execution_count": 22,
          "metadata": {},
          "output_type": "execute_result"
        }
      ]
    },
    {
      "cell_type": "markdown",
      "metadata": {
        "id": "1i7btJyozaZy"
      },
      "source": [
        "We can import the pandas scatter_matrix library to obtain the same correlation matrix but graphically. The relationship between variables is shown with a scatter plot. The relationship between the same variable is shown with a frequency histogram. This allows us to analyze its shape."
      ]
    },
    {
      "cell_type": "code",
      "metadata": {
        "id": "FKc_4kOCzaZy"
      },
      "source": [
        "from pandas.plotting import scatter_matrix"
      ],
      "execution_count": null,
      "outputs": []
    },
    {
      "cell_type": "code",
      "metadata": {
        "id": "fCWHiV0wzaZy",
        "outputId": "03f20761-0945-4bc6-cef7-c53aa80d973e"
      },
      "source": [
        "scatter_matrix(df_fat[['Animal Products','Meat','Cereals - Excluding Beer','Sugar & Sweeteners','Obesity']], figsize = (17,14))\n",
        "plt.show()"
      ],
      "execution_count": null,
      "outputs": [
        {
          "name": "stderr",
          "output_type": "stream",
          "text": [
            "C:\\Users\\NavavitPonganan\\anaconda3\\lib\\site-packages\\pandas\\plotting\\_matplotlib\\tools.py:331: MatplotlibDeprecationWarning: \n",
            "The is_first_col function was deprecated in Matplotlib 3.4 and will be removed two minor releases later. Use ax.get_subplotspec().is_first_col() instead.\n",
            "  if ax.is_first_col():\n"
          ]
        },
        {
          "data": {
            "image/png": "[encoded data removed]",
            "text/plain": [
              "<Figure size 1224x1008 with 25 Axes>"
            ]
          },
          "metadata": {},
          "output_type": "display_data"
        }
      ]
    },
    {
      "cell_type": "markdown",
      "metadata": {
        "id": "8RxwlhevzaZy"
      },
      "source": [
        "We therefore see the distributions of each variable in a single graph and we can quickly detect if any pattern or trend is observed when we cross their values using the scatter plot. The most interesting correlations, whether we look at the correlation matrix or the scatter matrix, are between the variables: Obesity with Cereals and Meat with Animal Products."
      ]
    },
    {
      "cell_type": "markdown",
      "metadata": {
        "id": "wCU7z38XzaZz"
      },
      "source": [
        "## Regression Plot"
      ]
    },
    {
      "cell_type": "markdown",
      "metadata": {
        "id": "Svc55XYQzaZz"
      },
      "source": [
        "To obtain the regression plot easy and fast we use the Seaborn library. Let's make the regression plot of the most strongly correlated variables of the set of variables identified in the previous analysis."
      ]
    },
    {
      "cell_type": "code",
      "metadata": {
        "id": "gwHrt8M3zaZz"
      },
      "source": [
        "import seaborn as sns\n",
        "%matplotlib inline"
      ],
      "execution_count": null,
      "outputs": []
    },
    {
      "cell_type": "markdown",
      "metadata": {
        "id": "aHtogaLTzaZz"
      },
      "source": [
        "Animal Products vs. Meat."
      ]
    },
    {
      "cell_type": "code",
      "metadata": {
        "colab": {
          "base_uri": "https://localhost:8080/",
          "height": 299
        },
        "id": "Qb9YtMwLzaZz",
        "outputId": "449092f7-b390-4de3-ea46-3ba7bf96a0d6"
      },
      "source": [
        "sns.regplot(x = \"Animal Products\", y = \"Meat\", data = df_fat)"
      ],
      "execution_count": null,
      "outputs": [
        {
          "output_type": "execute_result",
          "data": {
            "text/plain": [
              "<matplotlib.axes._subplots.AxesSubplot at 0x7fc59cffa850>"
            ]
          },
          "metadata": {},
          "execution_count": 16
        },
        {
          "output_type": "display_data",
          "data": {
            "image/png": "[encoded data removed]",
            "text/plain": [
              "<Figure size 432x288 with 1 Axes>"
            ]
          },
          "metadata": {
            "needs_background": "light"
          }
        }
      ]
    },
    {
      "cell_type": "markdown",
      "metadata": {
        "id": "GQa5o5BZzaZz"
      },
      "source": [
        "Cereals vs. Obesity."
      ]
    },
    {
      "cell_type": "code",
      "metadata": {
        "colab": {
          "base_uri": "https://localhost:8080/",
          "height": 299
        },
        "id": "NaU9Ah3QzaZ0",
        "outputId": "911a8bdc-b6ec-49dc-c51a-42a73cea749a"
      },
      "source": [
        "sns.regplot(x = \"Cereals - Excluding Beer\", y = \"Obesity\", data = df_fat, color = 'mediumseagreen')\n",
        "plt.ylim(0,)"
      ],
      "execution_count": null,
      "outputs": [
        {
          "output_type": "execute_result",
          "data": {
            "text/plain": [
              "(0.0, 48.31291434597421)"
            ]
          },
          "metadata": {},
          "execution_count": 17
        },
        {
          "output_type": "display_data",
          "data": {
            "image/png": "[encoded data removed]",
            "text/plain": [
              "<Figure size 432x288 with 1 Axes>"
            ]
          },
          "metadata": {
            "needs_background": "light"
          }
        }
      ]
    },
    {
      "cell_type": "markdown",
      "metadata": {
        "id": "faqgXxnhzaZ0"
      },
      "source": [
        "Code to increase the size of the regression plot."
      ]
    },
    {
      "cell_type": "code",
      "metadata": {
        "colab": {
          "base_uri": "https://localhost:8080/",
          "height": 517
        },
        "id": "uPOhH3i9zaZ0",
        "outputId": "89607a11-ef56-4f12-d9d1-93c7ecef8e7c"
      },
      "source": [
        "plt.figure(figsize = (12, 8))\n",
        "ax = sns.regplot(x = \"Cereals - Excluding Beer\", y = \"Obesity\", data = df_fat, color = 'mediumseagreen')\n",
        "plt.ylim(0,)"
      ],
      "execution_count": null,
      "outputs": [
        {
          "output_type": "execute_result",
          "data": {
            "text/plain": [
              "(0.0, 48.318636000194175)"
            ]
          },
          "metadata": {},
          "execution_count": 18
        },
        {
          "output_type": "display_data",
          "data": {
            "image/png": "[encoded data removed]",
            "text/plain": [
              "<Figure size 864x576 with 1 Axes>"
            ]
          },
          "metadata": {
            "needs_background": "light"
          }
        }
      ]
    },
    {
      "cell_type": "markdown",
      "metadata": {
        "id": "7B0N5pvHzaZ1"
      },
      "source": [
        "We load a new dataset for the following analyzes. The new dataset corresponds to the suicides that occurred worldwide, from 1987 to 2014."
      ]
    },
    {
      "cell_type": "code",
      "metadata": {
        "id": "5NyUnfxqzaZ1"
      },
      "source": [
        "df_suicide = pd.read_csv('data/suicide.csv')"
      ],
      "execution_count": null,
      "outputs": []
    },
    {
      "cell_type": "code",
      "metadata": {
        "id": "1ylnXD_SzaZ1",
        "outputId": "7ec75b1a-c32c-4fc3-86be-558527777574"
      },
      "source": [
        "df_suicide.head()"
      ],
      "execution_count": null,
      "outputs": [
        {
          "data": {
            "text/html": [
              "<div>\n",
              "<style scoped>\n",
              "    .dataframe tbody tr th:only-of-type {\n",
              "        vertical-align: middle;\n",
              "    }\n",
              "\n",
              "    .dataframe tbody tr th {\n",
              "        vertical-align: top;\n",
              "    }\n",
              "\n",
              "    .dataframe thead th {\n",
              "        text-align: right;\n",
              "    }\n",
              "</style>\n",
              "<table border=\"1\" class=\"dataframe\">\n",
              "  <thead>\n",
              "    <tr style=\"text-align: right;\">\n",
              "      <th></th>\n",
              "      <th>country</th>\n",
              "      <th>year</th>\n",
              "      <th>sex</th>\n",
              "      <th>age</th>\n",
              "      <th>suicides_no</th>\n",
              "      <th>population</th>\n",
              "      <th>suicides/100k pop</th>\n",
              "      <th>country-year</th>\n",
              "      <th>HDI for year</th>\n",
              "      <th>gdp_for_year ($)</th>\n",
              "      <th>gdp_per_capita ($)</th>\n",
              "      <th>generation</th>\n",
              "    </tr>\n",
              "  </thead>\n",
              "  <tbody>\n",
              "    <tr>\n",
              "      <th>0</th>\n",
              "      <td>Albania</td>\n",
              "      <td>1987</td>\n",
              "      <td>male</td>\n",
              "      <td>15-24 years</td>\n",
              "      <td>21</td>\n",
              "      <td>312900</td>\n",
              "      <td>6.71</td>\n",
              "      <td>Albania1987</td>\n",
              "      <td>NaN</td>\n",
              "      <td>2,156,624,900</td>\n",
              "      <td>796</td>\n",
              "      <td>Generation X</td>\n",
              "    </tr>\n",
              "    <tr>\n",
              "      <th>1</th>\n",
              "      <td>Albania</td>\n",
              "      <td>1987</td>\n",
              "      <td>male</td>\n",
              "      <td>35-54 years</td>\n",
              "      <td>16</td>\n",
              "      <td>308000</td>\n",
              "      <td>5.19</td>\n",
              "      <td>Albania1987</td>\n",
              "      <td>NaN</td>\n",
              "      <td>2,156,624,900</td>\n",
              "      <td>796</td>\n",
              "      <td>Silent</td>\n",
              "    </tr>\n",
              "    <tr>\n",
              "      <th>2</th>\n",
              "      <td>Albania</td>\n",
              "      <td>1987</td>\n",
              "      <td>female</td>\n",
              "      <td>15-24 years</td>\n",
              "      <td>14</td>\n",
              "      <td>289700</td>\n",
              "      <td>4.83</td>\n",
              "      <td>Albania1987</td>\n",
              "      <td>NaN</td>\n",
              "      <td>2,156,624,900</td>\n",
              "      <td>796</td>\n",
              "      <td>Generation X</td>\n",
              "    </tr>\n",
              "    <tr>\n",
              "      <th>3</th>\n",
              "      <td>Albania</td>\n",
              "      <td>1987</td>\n",
              "      <td>male</td>\n",
              "      <td>75+ years</td>\n",
              "      <td>1</td>\n",
              "      <td>21800</td>\n",
              "      <td>4.59</td>\n",
              "      <td>Albania1987</td>\n",
              "      <td>NaN</td>\n",
              "      <td>2,156,624,900</td>\n",
              "      <td>796</td>\n",
              "      <td>G.I. Generation</td>\n",
              "    </tr>\n",
              "    <tr>\n",
              "      <th>4</th>\n",
              "      <td>Albania</td>\n",
              "      <td>1987</td>\n",
              "      <td>male</td>\n",
              "      <td>25-34 years</td>\n",
              "      <td>9</td>\n",
              "      <td>274300</td>\n",
              "      <td>3.28</td>\n",
              "      <td>Albania1987</td>\n",
              "      <td>NaN</td>\n",
              "      <td>2,156,624,900</td>\n",
              "      <td>796</td>\n",
              "      <td>Boomers</td>\n",
              "    </tr>\n",
              "  </tbody>\n",
              "</table>\n",
              "</div>"
            ],
            "text/plain": [
              "   country  year     sex          age  suicides_no  population  \\\n",
              "0  Albania  1987    male  15-24 years           21      312900   \n",
              "1  Albania  1987    male  35-54 years           16      308000   \n",
              "2  Albania  1987  female  15-24 years           14      289700   \n",
              "3  Albania  1987    male    75+ years            1       21800   \n",
              "4  Albania  1987    male  25-34 years            9      274300   \n",
              "\n",
              "   suicides/100k pop country-year  HDI for year  gdp_for_year ($)   \\\n",
              "0               6.71  Albania1987           NaN      2,156,624,900   \n",
              "1               5.19  Albania1987           NaN      2,156,624,900   \n",
              "2               4.83  Albania1987           NaN      2,156,624,900   \n",
              "3               4.59  Albania1987           NaN      2,156,624,900   \n",
              "4               3.28  Albania1987           NaN      2,156,624,900   \n",
              "\n",
              "   gdp_per_capita ($)       generation  \n",
              "0                 796     Generation X  \n",
              "1                 796           Silent  \n",
              "2                 796     Generation X  \n",
              "3                 796  G.I. Generation  \n",
              "4                 796          Boomers  "
            ]
          },
          "execution_count": 31,
          "metadata": {},
          "output_type": "execute_result"
        }
      ]
    },
    {
      "cell_type": "markdown",
      "metadata": {
        "id": "yRCYmHBbzaZ1"
      },
      "source": [
        "<h3>Analysis of Variance (ANOVA)</h3>\n",
        "\n",
        "<p>Analysis of variance, as we have seen, is a statistical method that can be used to verify whether there are significant differences between the means of two or more groups. Analysis of variance returns two values: </p>\n",
        "\n",
        "<p><b>F statistic</b>: ANOVA assumes that the means of all groups are the same until proven otherwise. Then calculate how much the real means deviate from the assumption. This is indicated by the F statistic. The larger the value of F, the greater the difference between the means.</p>\n",
        "\n",
        "<p><b>p value</b>: p value tells us how statistically significant the F value is.</p>\n",
        "\n",
        "<p>We will do an analysis of variance with the variables generation and number of suicides. The objective of the test is to determine if there is any correlation between generational groups and the number of suicides.</p>\n",
        "\n",
        "<p>If our generation variable is strongly correlated with the number of suicides, the ANOVA test will return a high score in the F statistic and a small p value.</p>"
      ]
    },
    {
      "cell_type": "code",
      "metadata": {
        "id": "Rud5q8fGzaZ2",
        "outputId": "4ea8a44b-655f-428d-ab90-079534a214bc"
      },
      "source": [
        "# We take only the variables generation and suicides_no.\n",
        "df_suic_group = df_suicide[['generation','suicides_no']]\n",
        "df_suic_group.head()"
      ],
      "execution_count": null,
      "outputs": [
        {
          "data": {
            "text/html": [
              "<div>\n",
              "<style scoped>\n",
              "    .dataframe tbody tr th:only-of-type {\n",
              "        vertical-align: middle;\n",
              "    }\n",
              "\n",
              "    .dataframe tbody tr th {\n",
              "        vertical-align: top;\n",
              "    }\n",
              "\n",
              "    .dataframe thead th {\n",
              "        text-align: right;\n",
              "    }\n",
              "</style>\n",
              "<table border=\"1\" class=\"dataframe\">\n",
              "  <thead>\n",
              "    <tr style=\"text-align: right;\">\n",
              "      <th></th>\n",
              "      <th>generation</th>\n",
              "      <th>suicides_no</th>\n",
              "    </tr>\n",
              "  </thead>\n",
              "  <tbody>\n",
              "    <tr>\n",
              "      <th>0</th>\n",
              "      <td>Generation X</td>\n",
              "      <td>21</td>\n",
              "    </tr>\n",
              "    <tr>\n",
              "      <th>1</th>\n",
              "      <td>Silent</td>\n",
              "      <td>16</td>\n",
              "    </tr>\n",
              "    <tr>\n",
              "      <th>2</th>\n",
              "      <td>Generation X</td>\n",
              "      <td>14</td>\n",
              "    </tr>\n",
              "    <tr>\n",
              "      <th>3</th>\n",
              "      <td>G.I. Generation</td>\n",
              "      <td>1</td>\n",
              "    </tr>\n",
              "    <tr>\n",
              "      <th>4</th>\n",
              "      <td>Boomers</td>\n",
              "      <td>9</td>\n",
              "    </tr>\n",
              "  </tbody>\n",
              "</table>\n",
              "</div>"
            ],
            "text/plain": [
              "        generation  suicides_no\n",
              "0     Generation X           21\n",
              "1           Silent           16\n",
              "2     Generation X           14\n",
              "3  G.I. Generation            1\n",
              "4          Boomers            9"
            ]
          },
          "execution_count": 32,
          "metadata": {},
          "output_type": "execute_result"
        }
      ]
    },
    {
      "cell_type": "code",
      "metadata": {
        "id": "RUcPpuBMzaZ2",
        "outputId": "dd10984c-7821-42da-b9a0-b4a87f02b69d"
      },
      "source": [
        "# A brief summary of the generations\n",
        "df_suic_group.groupby(['generation'], as_index = False).count()"
      ],
      "execution_count": null,
      "outputs": [
        {
          "data": {
            "text/html": [
              "<div>\n",
              "<style scoped>\n",
              "    .dataframe tbody tr th:only-of-type {\n",
              "        vertical-align: middle;\n",
              "    }\n",
              "\n",
              "    .dataframe tbody tr th {\n",
              "        vertical-align: top;\n",
              "    }\n",
              "\n",
              "    .dataframe thead th {\n",
              "        text-align: right;\n",
              "    }\n",
              "</style>\n",
              "<table border=\"1\" class=\"dataframe\">\n",
              "  <thead>\n",
              "    <tr style=\"text-align: right;\">\n",
              "      <th></th>\n",
              "      <th>generation</th>\n",
              "      <th>suicides_no</th>\n",
              "    </tr>\n",
              "  </thead>\n",
              "  <tbody>\n",
              "    <tr>\n",
              "      <th>0</th>\n",
              "      <td>Boomers</td>\n",
              "      <td>4990</td>\n",
              "    </tr>\n",
              "    <tr>\n",
              "      <th>1</th>\n",
              "      <td>G.I. Generation</td>\n",
              "      <td>2744</td>\n",
              "    </tr>\n",
              "    <tr>\n",
              "      <th>2</th>\n",
              "      <td>Generation X</td>\n",
              "      <td>6408</td>\n",
              "    </tr>\n",
              "    <tr>\n",
              "      <th>3</th>\n",
              "      <td>Generation Z</td>\n",
              "      <td>1470</td>\n",
              "    </tr>\n",
              "    <tr>\n",
              "      <th>4</th>\n",
              "      <td>Millenials</td>\n",
              "      <td>5844</td>\n",
              "    </tr>\n",
              "    <tr>\n",
              "      <th>5</th>\n",
              "      <td>Silent</td>\n",
              "      <td>6364</td>\n",
              "    </tr>\n",
              "  </tbody>\n",
              "</table>\n",
              "</div>"
            ],
            "text/plain": [
              "        generation  suicides_no\n",
              "0          Boomers         4990\n",
              "1  G.I. Generation         2744\n",
              "2     Generation X         6408\n",
              "3     Generation Z         1470\n",
              "4       Millenials         5844\n",
              "5           Silent         6364"
            ]
          },
          "execution_count": 33,
          "metadata": {},
          "output_type": "execute_result"
        }
      ]
    },
    {
      "cell_type": "markdown",
      "metadata": {
        "id": "o7C788jOzaZ2"
      },
      "source": [
        "First we group by the categorical variable generation."
      ]
    },
    {
      "cell_type": "code",
      "metadata": {
        "id": "pDUFfE1mzaZ2",
        "outputId": "33e7de59-855f-40ca-91aa-e3871cdb0184"
      },
      "source": [
        "group_df_suicide = df_suicide[['generation', 'suicides_no']].groupby(['generation'])\n",
        "group_df_suicide.head(2)"
      ],
      "execution_count": null,
      "outputs": [
        {
          "data": {
            "text/html": [
              "<div>\n",
              "<style scoped>\n",
              "    .dataframe tbody tr th:only-of-type {\n",
              "        vertical-align: middle;\n",
              "    }\n",
              "\n",
              "    .dataframe tbody tr th {\n",
              "        vertical-align: top;\n",
              "    }\n",
              "\n",
              "    .dataframe thead th {\n",
              "        text-align: right;\n",
              "    }\n",
              "</style>\n",
              "<table border=\"1\" class=\"dataframe\">\n",
              "  <thead>\n",
              "    <tr style=\"text-align: right;\">\n",
              "      <th></th>\n",
              "      <th>generation</th>\n",
              "      <th>suicides_no</th>\n",
              "    </tr>\n",
              "  </thead>\n",
              "  <tbody>\n",
              "    <tr>\n",
              "      <th>0</th>\n",
              "      <td>Generation X</td>\n",
              "      <td>21</td>\n",
              "    </tr>\n",
              "    <tr>\n",
              "      <th>1</th>\n",
              "      <td>Silent</td>\n",
              "      <td>16</td>\n",
              "    </tr>\n",
              "    <tr>\n",
              "      <th>2</th>\n",
              "      <td>Generation X</td>\n",
              "      <td>14</td>\n",
              "    </tr>\n",
              "    <tr>\n",
              "      <th>3</th>\n",
              "      <td>G.I. Generation</td>\n",
              "      <td>1</td>\n",
              "    </tr>\n",
              "    <tr>\n",
              "      <th>4</th>\n",
              "      <td>Boomers</td>\n",
              "      <td>9</td>\n",
              "    </tr>\n",
              "    <tr>\n",
              "      <th>5</th>\n",
              "      <td>G.I. Generation</td>\n",
              "      <td>1</td>\n",
              "    </tr>\n",
              "    <tr>\n",
              "      <th>6</th>\n",
              "      <td>Silent</td>\n",
              "      <td>6</td>\n",
              "    </tr>\n",
              "    <tr>\n",
              "      <th>7</th>\n",
              "      <td>Boomers</td>\n",
              "      <td>4</td>\n",
              "    </tr>\n",
              "    <tr>\n",
              "      <th>44</th>\n",
              "      <td>Millenials</td>\n",
              "      <td>0</td>\n",
              "    </tr>\n",
              "    <tr>\n",
              "      <th>46</th>\n",
              "      <td>Millenials</td>\n",
              "      <td>0</td>\n",
              "    </tr>\n",
              "    <tr>\n",
              "      <th>226</th>\n",
              "      <td>Generation Z</td>\n",
              "      <td>4</td>\n",
              "    </tr>\n",
              "    <tr>\n",
              "      <th>227</th>\n",
              "      <td>Generation Z</td>\n",
              "      <td>0</td>\n",
              "    </tr>\n",
              "  </tbody>\n",
              "</table>\n",
              "</div>"
            ],
            "text/plain": [
              "          generation  suicides_no\n",
              "0       Generation X           21\n",
              "1             Silent           16\n",
              "2       Generation X           14\n",
              "3    G.I. Generation            1\n",
              "4            Boomers            9\n",
              "5    G.I. Generation            1\n",
              "6             Silent            6\n",
              "7            Boomers            4\n",
              "44        Millenials            0\n",
              "46        Millenials            0\n",
              "226     Generation Z            4\n",
              "227     Generation Z            0"
            ]
          },
          "execution_count": 34,
          "metadata": {},
          "output_type": "execute_result"
        }
      ]
    },
    {
      "cell_type": "markdown",
      "metadata": {
        "id": "JU_qC_e4zaZ3"
      },
      "source": [
        "We can get the values of the groups using the get_group method.\n",
        "So, for instance if I want the group values Millenials:"
      ]
    },
    {
      "cell_type": "code",
      "metadata": {
        "id": "lp3bZuUBzaZ3",
        "outputId": "ffc74cfb-178c-4c57-f66c-3a7226d99267"
      },
      "source": [
        "group_df_suicide.get_group('Millenials')['suicides_no']"
      ],
      "execution_count": null,
      "outputs": [
        {
          "data": {
            "text/plain": [
              "44         0\n",
              "46         0\n",
              "57         1\n",
              "58         1\n",
              "70         1\n",
              "        ... \n",
              "27802    146\n",
              "27809    318\n",
              "27810    347\n",
              "27812    347\n",
              "27814    162\n",
              "Name: suicides_no, Length: 5844, dtype: int64"
            ]
          },
          "execution_count": 35,
          "metadata": {},
          "output_type": "execute_result"
        }
      ]
    },
    {
      "cell_type": "markdown",
      "metadata": {
        "id": "pq-LQ6pgzaZ3"
      },
      "source": [
        "Now that we know how to create the groups and obtain their values, we are going to use the f_oneway method of the stats library to perform our analysis of variance. Let's do it for all generations.\n"
      ]
    },
    {
      "cell_type": "code",
      "metadata": {
        "id": "f5QVLalQzaZ3",
        "outputId": "47f9f906-774e-46c2-c86b-43caabec7d5d"
      },
      "source": [
        "f_val, p_val = stats.f_oneway(group_df_suicide.get_group('Boomers')['suicides_no'], \n",
        "                              group_df_suicide.get_group('G.I. Generation')['suicides_no'], \n",
        "                              group_df_suicide.get_group('Generation X')['suicides_no'],\n",
        "                              group_df_suicide.get_group('Generation Z')['suicides_no'],\n",
        "                              group_df_suicide.get_group('Millenials')['suicides_no'], \n",
        "                              group_df_suicide.get_group('Silent')['suicides_no'])\n",
        " \n",
        "print( \"ANOVA Result: F=\", f_val, \", P =\", p_val)\n"
      ],
      "execution_count": null,
      "outputs": [
        {
          "name": "stdout",
          "output_type": "stream",
          "text": [
            "ANOVA Result: F= 109.21258765046143 , P = 1.2398442541832577e-114\n"
          ]
        }
      ]
    }
  ]
}